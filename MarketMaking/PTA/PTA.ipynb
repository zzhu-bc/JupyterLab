{
 "cells": [
  {
   "cell_type": "code",
   "execution_count": null,
   "id": "f649b99d-3961-423f-a746-a826d7e6f98e",
   "metadata": {
    "tags": []
   },
   "outputs": [],
   "source": [
    "import psycopg2\n",
    "from urllib.parse import urlparse\n",
    "\n",
    "hostname = 'tp-prod.cluster-ccyuzsxk53nn.ap-southeast-1.rds.amazonaws.com'\n",
    "result = urlparse(\"postgresql://\" + hostname)\n",
    "user = 'tpadmin'\n",
    "password = 'changeme123'\n",
    "db_name = 'tradingplatform'\n",
    "\n",
    "conn = psycopg2.connect(\n",
    "    database=db_name, \n",
    "    user=user, \n",
    "    password=password,\n",
    "    host=result.hostname,\n",
    "    port=result.port,\n",
    ")\n",
    "\n",
    "cur = conn.cursor()\n",
    "\n",
    "cur.execute(\n",
    "    \"call tradingplatform.mtm_pnl_reporting.insert_daily_pnl(%s, %s, %s, %s, %s); \", \n",
    "    ('mm_defi', '2024-06-19', '38444', None, None))\n",
    "\n",
    "cur.execute(\n",
    "    \"call tradingplatform.mtm_pnl_reporting.insert_daily_pnl(%s, %s, %s, %s, %s); \", \n",
    "    ('prop_defi', '2024-06-19', '1620', None, None))\n",
    "\n",
    "cur.execute(\n",
    "    \"call tradingplatform.mtm_pnl_reporting.insert_daily_pnl(%s, %s, %s, %s, %s); \", \n",
    "    ('fixed_income_defi', '2024-06-19', '22867', None, None))\n",
    "\n",
    "\n",
    "conn.commit()"
   ]
  },
  {
   "cell_type": "code",
   "execution_count": 1,
   "id": "1278434d-4c62-4a2b-9585-8594da39f0f9",
   "metadata": {
    "tags": []
   },
   "outputs": [],
   "source": [
    "import psycopg2\n"
   ]
  },
  {
   "cell_type": "code",
   "execution_count": 3,
   "id": "3432372b-03db-43c7-86ff-e245af548a9d",
   "metadata": {
    "tags": []
   },
   "outputs": [],
   "source": [
    "from urllib.parse import urlparse\n"
   ]
  },
  {
   "cell_type": "code",
   "execution_count": null,
   "id": "75fa1d3f-86a8-41c3-a790-028f2227b4dd",
   "metadata": {
    "tags": []
   },
   "outputs": [],
   "source": [
    "hostname = 'tp-prod.cluster-ccyuzsxk53nn.ap-southeast-1.rds.amazonaws.com'\n",
    "result = urlparse(\"postgresql://\" + hostname)\n",
    "user = 'tpadmin'\n",
    "password = 'changeme123'\n",
    "db_name = 'tradingplatform'\n",
    "\n",
    "conn = psycopg2.connect(\n",
    "    database=db_name, \n",
    "    user=user, \n",
    "    password=password,\n",
    "    host=result.hostname,\n",
    "    port=result.port,\n",
    ")\n",
    "\n",
    "cur = conn.cursor()"
   ]
  },
  {
   "cell_type": "code",
   "execution_count": null,
   "id": "ccd6775b-9c60-4e36-9a69-7042bca83c7a",
   "metadata": {},
   "outputs": [],
   "source": []
  }
 ],
 "metadata": {
  "kernelspec": {
   "display_name": "Python 3 (ipykernel)",
   "language": "python",
   "name": "python3"
  },
  "language_info": {
   "codemirror_mode": {
    "name": "ipython",
    "version": 3
   },
   "file_extension": ".py",
   "mimetype": "text/x-python",
   "name": "python",
   "nbconvert_exporter": "python",
   "pygments_lexer": "ipython3",
   "version": "3.11.8"
  }
 },
 "nbformat": 4,
 "nbformat_minor": 5
}
