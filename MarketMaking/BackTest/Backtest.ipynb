{
 "cells": [
  {
   "cell_type": "code",
   "execution_count": 3,
   "id": "72e0569c-51c0-41ad-8525-775ac257b04a",
   "metadata": {
    "tags": []
   },
   "outputs": [],
   "source": [
    "import pandas as pd\n",
    "import numpy as np\n",
    "import plotly.graph_objects as go\n",
    "from plotly.subplots import make_subplots\n",
    "\n",
    "import polars as pl\n",
    "from my_packages.tardis_loader import TardisLoader\n",
    "from datetime import datetime, timedelta\n",
    "from functools import reduce\n",
    "\n",
    "import nest_asyncio\n",
    "nest_asyncio.apply()\n",
    "\n",
    "\n",
    "from scipy.stats import norm, t\n",
    "from statsmodels.tsa.stattools import adfuller"
   ]
  },
  {
   "cell_type": "markdown",
   "id": "b37cdc19-168f-4e5a-9ae8-460fdf382632",
   "metadata": {},
   "source": [
    "### Load data from Tardis"
   ]
  },
  {
   "cell_type": "code",
   "execution_count": 5,
   "id": "741c2bfb-c1db-44af-bb6c-e32335c1e513",
   "metadata": {
    "tags": []
   },
   "outputs": [],
   "source": [
    "root_dir = './data'\n",
    "api_key = 'TD.sSGNjEpohBl9i0FV.zz0-s-b6DZ9c2lt.uoNpgBPGaTITrA9.YlW26JKS0PSfoOG.2pEnnkHAnTpOloD.3wMo'\n",
    "\n",
    "Tardis_data = TardisLoader(root_dir, api_key)"
   ]
  },
  {
   "cell_type": "code",
   "execution_count": 171,
   "id": "97e3d17c-ab49-4136-bc0c-086aa3bf5b26",
   "metadata": {
    "tags": []
   },
   "outputs": [],
   "source": [
    "# Set time and exchanges\n",
    "start_time = datetime.strptime('2024-09-05', '%Y-%m-%d')\n",
    "end_time = datetime.strptime('2024-09-10', '%Y-%m-%d')\n",
    "exchange = 'binance-futures' #'binance-futures'\n",
    "symbol = 'btcusdt'\n",
    "\n",
    "# Download the dataset\n",
    "Tardis_data.download(start_time, end_time, data_type='trades', exchange=exchange, symbol=symbol)\n",
    "Tardis_data.download(start_time, end_time, data_type='book_snapshot_25', exchange=exchange, symbol=symbol)\n",
    "                    \n",
    "# Load the data\n",
    "trades_bnc = Tardis_data.read(start_time, end_time, data_type='trades', exchange=exchange, symbol=symbol)\n",
    "order_book_bnc_25 = Tardis_data.read(start_time, end_time, data_type='book_snapshot_25', exchange=exchange, symbol=symbol)\n",
    "order_book_bnc_10 = order_book_bnc_25.select(order_book_bnc_25.columns[:45])\n",
    "\n",
    "# Add Latency Column\n",
    "trades_bnc = trades_bnc.with_columns([\n",
    "    (pl.col('local_timestamp') - pl.col('timestamp')).alias('recv_latency'),\n",
    "    (pl.col('local_timestamp') - pl.col('timestamp')).shift(-1).alias('next_recv_latency')\n",
    "])\n",
    "trades_bnc = trades_bnc.filter(pl.col(\"next_recv_latency\").is_not_null())\n",
    "\n",
    "# Add Latency Column\n",
    "order_book_bnc_25 = order_book_bnc_25.with_columns([\n",
    "    (pl.col('local_timestamp') - pl.col('timestamp')).alias('recv_latency'),\n",
    "    (pl.col('local_timestamp') - pl.col('timestamp')).shift(-1).alias('next_recv_latency')\n",
    "])\n",
    "order_book_bnc_25 = order_book_bnc_25.filter(pl.col(\"next_recv_latency\").is_not_null())\n",
    "\n",
    "# Add Latency Column\n",
    "order_book_bnc_10 = order_book_bnc_10.with_columns([\n",
    "    (pl.col('local_timestamp') - pl.col('timestamp')).alias('recv_latency'),\n",
    "    (pl.col('local_timestamp') - pl.col('timestamp')).shift(-1).alias('next_recv_latency')\n",
    "])\n",
    "order_book_bnc_10 = order_book_bnc_10.filter(pl.col(\"next_recv_latency\").is_not_null())"
   ]
  },
  {
   "cell_type": "code",
   "execution_count": 110,
   "id": "00cfb7f7-4937-49f4-8d2c-2d72c92ed7c6",
   "metadata": {
    "tags": []
   },
   "outputs": [],
   "source": [
    "sep10_ob = order_book_bnc_25\n",
    "sep10_trades = trades_bnc"
   ]
  },
  {
   "cell_type": "code",
   "execution_count": 68,
   "id": "48013f25-2a43-477d-8ee9-0566d23a3ecf",
   "metadata": {
    "tags": []
   },
   "outputs": [],
   "source": [
    "# order_book_bnc_10.filter(order_book_bnc_10['timestamp'].diff() < 10000)"
   ]
  },
  {
   "cell_type": "markdown",
   "id": "2bade58e-8604-4b4a-9532-681b7bd2af1b",
   "metadata": {
    "tags": []
   },
   "source": [
    "### Build Model"
   ]
  },
  {
   "cell_type": "code",
   "execution_count": 606,
   "id": "f06b5bba-be9e-4188-9bba-455a6738334f",
   "metadata": {
    "tags": []
   },
   "outputs": [
    {
     "data": {
      "text/html": [
       "<div><style>\n",
       ".dataframe > thead > tr,\n",
       ".dataframe > tbody > tr {\n",
       "  text-align: right;\n",
       "  white-space: pre-wrap;\n",
       "}\n",
       "</style>\n",
       "<small>shape: (3_066_405, 11)</small><table border=\"1\" class=\"dataframe\"><thead><tr><th>human_time</th><th>exchange</th><th>symbol</th><th>timestamp</th><th>local_timestamp</th><th>id</th><th>side</th><th>price</th><th>amount</th><th>recv_latency</th><th>next_recv_latency</th></tr><tr><td>datetime[μs]</td><td>str</td><td>str</td><td>i64</td><td>i64</td><td>i64</td><td>str</td><td>f64</td><td>f64</td><td>i64</td><td>i64</td></tr></thead><tbody><tr><td>2024-09-10 00:00:03.267</td><td>&quot;binance-futures&quot;</td><td>&quot;BTCUSDT&quot;</td><td>1725926403267000</td><td>1725926403270502</td><td>5368753744</td><td>&quot;buy&quot;</td><td>57010.1</td><td>0.002</td><td>3502</td><td>4081</td></tr><tr><td>2024-09-10 00:00:03.272</td><td>&quot;binance-futures&quot;</td><td>&quot;BTCUSDT&quot;</td><td>1725926403272000</td><td>1725926403276081</td><td>5368753745</td><td>&quot;buy&quot;</td><td>57010.1</td><td>0.001</td><td>4081</td><td>3386</td></tr><tr><td>2024-09-10 00:00:03.280</td><td>&quot;binance-futures&quot;</td><td>&quot;BTCUSDT&quot;</td><td>1725926403280000</td><td>1725926403283386</td><td>5368753746</td><td>&quot;sell&quot;</td><td>57010.0</td><td>0.002</td><td>3386</td><td>3386</td></tr><tr><td>2024-09-10 00:00:03.280</td><td>&quot;binance-futures&quot;</td><td>&quot;BTCUSDT&quot;</td><td>1725926403280000</td><td>1725926403283386</td><td>5368753747</td><td>&quot;sell&quot;</td><td>57010.0</td><td>0.003</td><td>3386</td><td>3387</td></tr><tr><td>2024-09-10 00:00:03.280</td><td>&quot;binance-futures&quot;</td><td>&quot;BTCUSDT&quot;</td><td>1725926403280000</td><td>1725926403283387</td><td>5368753748</td><td>&quot;sell&quot;</td><td>57010.0</td><td>0.001</td><td>3387</td><td>3388</td></tr><tr><td>&hellip;</td><td>&hellip;</td><td>&hellip;</td><td>&hellip;</td><td>&hellip;</td><td>&hellip;</td><td>&hellip;</td><td>&hellip;</td><td>&hellip;</td><td>&hellip;</td><td>&hellip;</td></tr><tr><td>2024-09-10 23:59:59.314</td><td>&quot;binance-futures&quot;</td><td>&quot;BTCUSDT&quot;</td><td>1726012799314000</td><td>1726012799317560</td><td>5371820214</td><td>&quot;buy&quot;</td><td>57609.2</td><td>0.002</td><td>3560</td><td>3561</td></tr><tr><td>2024-09-10 23:59:59.314</td><td>&quot;binance-futures&quot;</td><td>&quot;BTCUSDT&quot;</td><td>1726012799314000</td><td>1726012799317561</td><td>5371820215</td><td>&quot;buy&quot;</td><td>57609.2</td><td>0.004</td><td>3561</td><td>3130</td></tr><tr><td>2024-09-10 23:59:59.355</td><td>&quot;binance-futures&quot;</td><td>&quot;BTCUSDT&quot;</td><td>1726012799355000</td><td>1726012799358130</td><td>5371820216</td><td>&quot;sell&quot;</td><td>57609.1</td><td>0.005</td><td>3130</td><td>3080</td></tr><tr><td>2024-09-10 23:59:59.431</td><td>&quot;binance-futures&quot;</td><td>&quot;BTCUSDT&quot;</td><td>1726012799431000</td><td>1726012799434080</td><td>5371820217</td><td>&quot;buy&quot;</td><td>57609.2</td><td>0.003</td><td>3080</td><td>3460</td></tr><tr><td>2024-09-10 23:59:59.704</td><td>&quot;binance-futures&quot;</td><td>&quot;BTCUSDT&quot;</td><td>1726012799704000</td><td>1726012799707460</td><td>5371820218</td><td>&quot;sell&quot;</td><td>57609.1</td><td>0.007</td><td>3460</td><td>3832</td></tr></tbody></table></div>"
      ],
      "text/plain": [
       "shape: (3_066_405, 11)\n",
       "┌─────────────┬────────────┬─────────┬────────────┬───┬─────────┬────────┬────────────┬────────────┐\n",
       "│ human_time  ┆ exchange   ┆ symbol  ┆ timestamp  ┆ … ┆ price   ┆ amount ┆ recv_laten ┆ next_recv_ │\n",
       "│ ---         ┆ ---        ┆ ---     ┆ ---        ┆   ┆ ---     ┆ ---    ┆ cy         ┆ latency    │\n",
       "│ datetime[μs ┆ str        ┆ str     ┆ i64        ┆   ┆ f64     ┆ f64    ┆ ---        ┆ ---        │\n",
       "│ ]           ┆            ┆         ┆            ┆   ┆         ┆        ┆ i64        ┆ i64        │\n",
       "╞═════════════╪════════════╪═════════╪════════════╪═══╪═════════╪════════╪════════════╪════════════╡\n",
       "│ 2024-09-10  ┆ binance-fu ┆ BTCUSDT ┆ 1725926403 ┆ … ┆ 57010.1 ┆ 0.002  ┆ 3502       ┆ 4081       │\n",
       "│ 00:00:03.26 ┆ tures      ┆         ┆ 267000     ┆   ┆         ┆        ┆            ┆            │\n",
       "│ 7           ┆            ┆         ┆            ┆   ┆         ┆        ┆            ┆            │\n",
       "│ 2024-09-10  ┆ binance-fu ┆ BTCUSDT ┆ 1725926403 ┆ … ┆ 57010.1 ┆ 0.001  ┆ 4081       ┆ 3386       │\n",
       "│ 00:00:03.27 ┆ tures      ┆         ┆ 272000     ┆   ┆         ┆        ┆            ┆            │\n",
       "│ 2           ┆            ┆         ┆            ┆   ┆         ┆        ┆            ┆            │\n",
       "│ 2024-09-10  ┆ binance-fu ┆ BTCUSDT ┆ 1725926403 ┆ … ┆ 57010.0 ┆ 0.002  ┆ 3386       ┆ 3386       │\n",
       "│ 00:00:03.28 ┆ tures      ┆         ┆ 280000     ┆   ┆         ┆        ┆            ┆            │\n",
       "│ 0           ┆            ┆         ┆            ┆   ┆         ┆        ┆            ┆            │\n",
       "│ 2024-09-10  ┆ binance-fu ┆ BTCUSDT ┆ 1725926403 ┆ … ┆ 57010.0 ┆ 0.003  ┆ 3386       ┆ 3387       │\n",
       "│ 00:00:03.28 ┆ tures      ┆         ┆ 280000     ┆   ┆         ┆        ┆            ┆            │\n",
       "│ 0           ┆            ┆         ┆            ┆   ┆         ┆        ┆            ┆            │\n",
       "│ 2024-09-10  ┆ binance-fu ┆ BTCUSDT ┆ 1725926403 ┆ … ┆ 57010.0 ┆ 0.001  ┆ 3387       ┆ 3388       │\n",
       "│ 00:00:03.28 ┆ tures      ┆         ┆ 280000     ┆   ┆         ┆        ┆            ┆            │\n",
       "│ 0           ┆            ┆         ┆            ┆   ┆         ┆        ┆            ┆            │\n",
       "│ …           ┆ …          ┆ …       ┆ …          ┆ … ┆ …       ┆ …      ┆ …          ┆ …          │\n",
       "│ 2024-09-10  ┆ binance-fu ┆ BTCUSDT ┆ 1726012799 ┆ … ┆ 57609.2 ┆ 0.002  ┆ 3560       ┆ 3561       │\n",
       "│ 23:59:59.31 ┆ tures      ┆         ┆ 314000     ┆   ┆         ┆        ┆            ┆            │\n",
       "│ 4           ┆            ┆         ┆            ┆   ┆         ┆        ┆            ┆            │\n",
       "│ 2024-09-10  ┆ binance-fu ┆ BTCUSDT ┆ 1726012799 ┆ … ┆ 57609.2 ┆ 0.004  ┆ 3561       ┆ 3130       │\n",
       "│ 23:59:59.31 ┆ tures      ┆         ┆ 314000     ┆   ┆         ┆        ┆            ┆            │\n",
       "│ 4           ┆            ┆         ┆            ┆   ┆         ┆        ┆            ┆            │\n",
       "│ 2024-09-10  ┆ binance-fu ┆ BTCUSDT ┆ 1726012799 ┆ … ┆ 57609.1 ┆ 0.005  ┆ 3130       ┆ 3080       │\n",
       "│ 23:59:59.35 ┆ tures      ┆         ┆ 355000     ┆   ┆         ┆        ┆            ┆            │\n",
       "│ 5           ┆            ┆         ┆            ┆   ┆         ┆        ┆            ┆            │\n",
       "│ 2024-09-10  ┆ binance-fu ┆ BTCUSDT ┆ 1726012799 ┆ … ┆ 57609.2 ┆ 0.003  ┆ 3080       ┆ 3460       │\n",
       "│ 23:59:59.43 ┆ tures      ┆         ┆ 431000     ┆   ┆         ┆        ┆            ┆            │\n",
       "│ 1           ┆            ┆         ┆            ┆   ┆         ┆        ┆            ┆            │\n",
       "│ 2024-09-10  ┆ binance-fu ┆ BTCUSDT ┆ 1726012799 ┆ … ┆ 57609.1 ┆ 0.007  ┆ 3460       ┆ 3832       │\n",
       "│ 23:59:59.70 ┆ tures      ┆         ┆ 704000     ┆   ┆         ┆        ┆            ┆            │\n",
       "│ 4           ┆            ┆         ┆            ┆   ┆         ┆        ┆            ┆            │\n",
       "└─────────────┴────────────┴─────────┴────────────┴───┴─────────┴────────┴────────────┴────────────┘"
      ]
     },
     "execution_count": 606,
     "metadata": {},
     "output_type": "execute_result"
    }
   ],
   "source": [
    "sep10_trades"
   ]
  },
  {
   "cell_type": "code",
   "execution_count": 615,
   "id": "18d5aefd-4492-468f-90dc-1055d1def872",
   "metadata": {
    "tags": []
   },
   "outputs": [],
   "source": [
    "def get_single_trade(trades_df: pl.dataframe, trades_amount_threshold: int = 0.01) -> pl.dataframe:\n",
    "    # Calculate the differences\n",
    "    trades_df = trades_df.with_columns([\n",
    "        (pl.col(\"timestamp\").diff().fill_null(0)).alias(\"ts_diff\"),\n",
    "        (pl.col(\"local_timestamp\").diff().fill_null(0)).alias(\"lts_diff\")\n",
    "    ])\n",
    "\n",
    "    # Binning trades\n",
    "    trades_df = trades_df.with_columns([\n",
    "        ((pl.col(\"ts_diff\") > 1000)).alias(\"is_new_bucket\") # | (pl.col(\"lts_diff\") > 200)\n",
    "    ])\n",
    "\n",
    "    # Calculate bucket_id\n",
    "    trades_df = trades_df.with_columns([\n",
    "        pl.col(\"is_new_bucket\").cum_sum().alias(\"bucket_id\")\n",
    "    ])\n",
    "    \n",
    "    # Calculate bucket statistics\n",
    "    trades_df_bucket = (\n",
    "        trades_df.group_by('bucket_id')\n",
    "        .agg([\n",
    "            pl.col('timestamp').first().alias('start_time'),\n",
    "            pl.col('timestamp').last().alias('end_time'),\n",
    "            pl.col('price').filter(pl.col('side') == 'buy').first().alias('buy_first_price'),\n",
    "            pl.col('price').filter(pl.col('side') == 'buy').last().alias('buy_last_price'),\n",
    "            pl.col('amount').filter(pl.col('side') == 'buy').sum().alias('buy_volume'),\n",
    "            pl.col('price').filter(pl.col('side') == 'sell').first().alias('sell_first_price'),\n",
    "            pl.col('price').filter(pl.col('side') == 'sell').last().alias('sell_last_price'),\n",
    "            pl.col('amount').filter(pl.col('side') == 'sell').sum().alias('sell_volume')\n",
    "        ])\n",
    "        .sort('start_time')\n",
    "        .fill_null(0)\n",
    "        )\n",
    "\n",
    "    # Filter spike with the bucket information\n",
    "    trades_df_spike = trades_df_bucket.filter(\n",
    "        (pl.col(\"buy_volume\") >= trades_amount_threshold) | (pl.col(\"sell_volume\") >= trades_amount_threshold)\n",
    "    )\n",
    "    \n",
    "    return trades_df_spike"
   ]
  },
  {
   "cell_type": "code",
   "execution_count": 647,
   "id": "2aa5ff65-9c69-4eca-a8dd-1d10c405957a",
   "metadata": {
    "tags": []
   },
   "outputs": [
    {
     "data": {
      "text/html": [
       "<div><style>\n",
       ".dataframe > thead > tr,\n",
       ".dataframe > tbody > tr {\n",
       "  text-align: right;\n",
       "  white-space: pre-wrap;\n",
       "}\n",
       "</style>\n",
       "<small>shape: (196_957, 9)</small><table border=\"1\" class=\"dataframe\"><thead><tr><th>bucket_id</th><th>start_time</th><th>end_time</th><th>buy_first_price</th><th>buy_last_price</th><th>buy_volume</th><th>sell_first_price</th><th>sell_last_price</th><th>sell_volume</th></tr><tr><td>u32</td><td>i64</td><td>i64</td><td>f64</td><td>f64</td><td>f64</td><td>f64</td><td>f64</td><td>f64</td></tr></thead><tbody><tr><td>3</td><td>1725926403284000</td><td>1725926403285000</td><td>0.0</td><td>0.0</td><td>0.0</td><td>57010.0</td><td>57010.0</td><td>0.668</td></tr><tr><td>10</td><td>1725926403317000</td><td>1725926403319000</td><td>57010.1</td><td>57013.2</td><td>4.636</td><td>57013.9</td><td>57013.9</td><td>0.003</td></tr><tr><td>13</td><td>1725926403331000</td><td>1725926403333000</td><td>57014.1</td><td>57019.8</td><td>0.876</td><td>0.0</td><td>0.0</td><td>0.0</td></tr><tr><td>16</td><td>1725926403366000</td><td>1725926403370000</td><td>57019.2</td><td>57024.5</td><td>10.506</td><td>0.0</td><td>0.0</td><td>0.0</td></tr><tr><td>23</td><td>1725926403408000</td><td>1725926403409000</td><td>0.0</td><td>0.0</td><td>0.0</td><td>57015.8</td><td>57015.8</td><td>0.236</td></tr><tr><td>&hellip;</td><td>&hellip;</td><td>&hellip;</td><td>&hellip;</td><td>&hellip;</td><td>&hellip;</td><td>&hellip;</td><td>&hellip;</td><td>&hellip;</td></tr><tr><td>846946</td><td>1726012796560000</td><td>1726012796562000</td><td>57607.7</td><td>57610.7</td><td>1.296</td><td>0.0</td><td>0.0</td><td>0.0</td></tr><tr><td>846947</td><td>1726012796651000</td><td>1726012796651000</td><td>57610.7</td><td>57610.7</td><td>0.408</td><td>0.0</td><td>0.0</td><td>0.0</td></tr><tr><td>846949</td><td>1726012796725000</td><td>1726012796725000</td><td>57613.6</td><td>57613.6</td><td>0.135</td><td>0.0</td><td>0.0</td><td>0.0</td></tr><tr><td>846954</td><td>1726012797428000</td><td>1726012797428000</td><td>0.0</td><td>0.0</td><td>0.0</td><td>57613.5</td><td>57613.5</td><td>0.5</td></tr><tr><td>846960</td><td>1726012798911000</td><td>1726012798912000</td><td>0.0</td><td>0.0</td><td>0.0</td><td>57613.5</td><td>57613.5</td><td>0.195</td></tr></tbody></table></div>"
      ],
      "text/plain": [
       "shape: (196_957, 9)\n",
       "┌───────────┬───────────┬───────────┬───────────┬───┬───────────┬───────────┬───────────┬──────────┐\n",
       "│ bucket_id ┆ start_tim ┆ end_time  ┆ buy_first ┆ … ┆ buy_volum ┆ sell_firs ┆ sell_last ┆ sell_vol │\n",
       "│ ---       ┆ e         ┆ ---       ┆ _price    ┆   ┆ e         ┆ t_price   ┆ _price    ┆ ume      │\n",
       "│ u32       ┆ ---       ┆ i64       ┆ ---       ┆   ┆ ---       ┆ ---       ┆ ---       ┆ ---      │\n",
       "│           ┆ i64       ┆           ┆ f64       ┆   ┆ f64       ┆ f64       ┆ f64       ┆ f64      │\n",
       "╞═══════════╪═══════════╪═══════════╪═══════════╪═══╪═══════════╪═══════════╪═══════════╪══════════╡\n",
       "│ 3         ┆ 172592640 ┆ 172592640 ┆ 0.0       ┆ … ┆ 0.0       ┆ 57010.0   ┆ 57010.0   ┆ 0.668    │\n",
       "│           ┆ 3284000   ┆ 3285000   ┆           ┆   ┆           ┆           ┆           ┆          │\n",
       "│ 10        ┆ 172592640 ┆ 172592640 ┆ 57010.1   ┆ … ┆ 4.636     ┆ 57013.9   ┆ 57013.9   ┆ 0.003    │\n",
       "│           ┆ 3317000   ┆ 3319000   ┆           ┆   ┆           ┆           ┆           ┆          │\n",
       "│ 13        ┆ 172592640 ┆ 172592640 ┆ 57014.1   ┆ … ┆ 0.876     ┆ 0.0       ┆ 0.0       ┆ 0.0      │\n",
       "│           ┆ 3331000   ┆ 3333000   ┆           ┆   ┆           ┆           ┆           ┆          │\n",
       "│ 16        ┆ 172592640 ┆ 172592640 ┆ 57019.2   ┆ … ┆ 10.506    ┆ 0.0       ┆ 0.0       ┆ 0.0      │\n",
       "│           ┆ 3366000   ┆ 3370000   ┆           ┆   ┆           ┆           ┆           ┆          │\n",
       "│ 23        ┆ 172592640 ┆ 172592640 ┆ 0.0       ┆ … ┆ 0.0       ┆ 57015.8   ┆ 57015.8   ┆ 0.236    │\n",
       "│           ┆ 3408000   ┆ 3409000   ┆           ┆   ┆           ┆           ┆           ┆          │\n",
       "│ …         ┆ …         ┆ …         ┆ …         ┆ … ┆ …         ┆ …         ┆ …         ┆ …        │\n",
       "│ 846946    ┆ 172601279 ┆ 172601279 ┆ 57607.7   ┆ … ┆ 1.296     ┆ 0.0       ┆ 0.0       ┆ 0.0      │\n",
       "│           ┆ 6560000   ┆ 6562000   ┆           ┆   ┆           ┆           ┆           ┆          │\n",
       "│ 846947    ┆ 172601279 ┆ 172601279 ┆ 57610.7   ┆ … ┆ 0.408     ┆ 0.0       ┆ 0.0       ┆ 0.0      │\n",
       "│           ┆ 6651000   ┆ 6651000   ┆           ┆   ┆           ┆           ┆           ┆          │\n",
       "│ 846949    ┆ 172601279 ┆ 172601279 ┆ 57613.6   ┆ … ┆ 0.135     ┆ 0.0       ┆ 0.0       ┆ 0.0      │\n",
       "│           ┆ 6725000   ┆ 6725000   ┆           ┆   ┆           ┆           ┆           ┆          │\n",
       "│ 846954    ┆ 172601279 ┆ 172601279 ┆ 0.0       ┆ … ┆ 0.0       ┆ 57613.5   ┆ 57613.5   ┆ 0.5      │\n",
       "│           ┆ 7428000   ┆ 7428000   ┆           ┆   ┆           ┆           ┆           ┆          │\n",
       "│ 846960    ┆ 172601279 ┆ 172601279 ┆ 0.0       ┆ … ┆ 0.0       ┆ 57613.5   ┆ 57613.5   ┆ 0.195    │\n",
       "│           ┆ 8911000   ┆ 8912000   ┆           ┆   ┆           ┆           ┆           ┆          │\n",
       "└───────────┴───────────┴───────────┴───────────┴───┴───────────┴───────────┴───────────┴──────────┘"
      ]
     },
     "execution_count": 647,
     "metadata": {},
     "output_type": "execute_result"
    }
   ],
   "source": [
    "get_single_trade(sep10_trades, trades_amount_threshold=0.1)"
   ]
  },
  {
   "cell_type": "markdown",
   "id": "1603e8db-ca36-4da8-b6ff-c69c62f9bb6d",
   "metadata": {
    "jp-MarkdownHeadingCollapsed": true,
    "tags": []
   },
   "source": [
    "### Strategy Build"
   ]
  },
  {
   "cell_type": "code",
   "execution_count": null,
   "id": "ed2ed228-a075-4365-bb03-6660a8cf893b",
   "metadata": {},
   "outputs": [],
   "source": [
    "class DynamicSpread(BacktestEngine):\n",
    "    \n",
    "    # Rewrite send_orders function for dynamic spread\n",
    "    def quote_around_midval(self) -> None:\n",
    "        '''\n",
    "        Place quotes based on updated mid val\n",
    "        '''\n",
    "        # Get necessary data\n",
    "        trades = self.trades\n",
    "        orders = self.orders\n",
    "        \n",
    "        \n",
    "        \n",
    "        # Calculate the order information\n",
    "        self.orders = self.orders.with_columns([\n",
    "            (pl.col('mid_val') * (1 - self.min_margin/10000)).round(1).alias('bid_quote_px'),\n",
    "            pl.lit(self.order_qty).alias('bid_quote_size'),\n",
    "            (pl.col('mid_val') * (1 + self.min_margin/10000)).round(1).alias('ask_quote_px'),\n",
    "            pl.lit(self.order_qty).alias('ask_quote_size')\n",
    "        ])\n",
    "        \n",
    "    "
   ]
  },
  {
   "cell_type": "markdown",
   "id": "8ad53be0-9371-492c-93fd-390c9a912e82",
   "metadata": {
    "tags": []
   },
   "source": [
    "### Backtest Engine"
   ]
  },
  {
   "cell_type": "code",
   "execution_count": 557,
   "id": "87dcd4e9-8eee-479a-a3ce-68c635eac10a",
   "metadata": {
    "tags": []
   },
   "outputs": [],
   "source": [
    "from typing import List, Optional\n",
    "import time\n",
    "\n",
    "class BacktestEngine:\n",
    "    # Current backtest has two major difference than real one\n",
    "    # 1. no skew on inventory\n",
    "    # 2. no max risk\n",
    "    # 3. should more focus on markout of single trade instead of overall PnL, because current system didn't look at net position nor the strategy\n",
    "    # 4. To enable net position, the orders will affect each other, thus can only run sequentially. (Will sacrifice backtest speed. Is it necessary?)\n",
    "    \n",
    "    def __init__(self, trades_data: pl.DataFrame, order_book_data: pl.DataFrame) -> None:\n",
    "        # Strategy Config\n",
    "        self.min_margin = None\n",
    "        self.order_qty = None\n",
    "        self.update_tol = None\n",
    "        \n",
    "        # Following skew setting are not supported on current backtest setting\n",
    "        # self.margin_rate = None\n",
    "        # self.max_risk = None\n",
    "        # self.max_inventory= None\n",
    "        \n",
    "        # Backtest Meta Setting\n",
    "        self.latency_type = None\n",
    "        self.default_latency = None\n",
    "        self.rebates = None\n",
    "        \n",
    "        # Backtest Sample Filteration\n",
    "        self.latency_range = None\n",
    "        self.tail_sample_truncate = None\n",
    "\n",
    "        # Intermediate Process Variables (for process checking and debuging)\n",
    "        self.mid_val_ts = None\n",
    "        self.orders = None\n",
    "        self.orders_latency_applied = None\n",
    "        self.orders_queue_added = None\n",
    "        self.orders_trades_matched = None\n",
    "        self.orders_markout_added = None\n",
    "        self.markout_fill_rate_applied = None\n",
    "        \n",
    "        # Trades Logs\n",
    "        # self.current_order = {'Binance_Bid': [0, 0], 'Binance_Ask': [0, 0]} # Outstanding order price and size\n",
    "        # self.net_pos = 0\n",
    "        self.stats = None\n",
    "\n",
    "        # Dataframe Used for Backtest\n",
    "        self.trades_bnc = trades_data\n",
    "        self.orderbooks_bnc = order_book_data\n",
    "        \n",
    "        \n",
    "    ####################\n",
    "    ## Unity Function ##\n",
    "    ####################\n",
    "\n",
    "    @staticmethod\n",
    "    def adjust_mid_val(mid_vals: pl.Series, tolerance: float) -> pl.Series:\n",
    "        '''\n",
    "        This is a closure function. Only update mid_val when the difference reached the min_update_bps\n",
    "        \n",
    "        PARAMS:\n",
    "          tolerance: minimum price change for mid_val updating\n",
    "          mid_vals: raw mid_val timeseries\n",
    "\n",
    "        RETURN: adjusted mid_val timeseries\n",
    "        '''\n",
    "        adjusted_vals = []\n",
    "        last_value = mid_vals[0]\n",
    "        adjusted_vals.append(last_value)\n",
    "\n",
    "        for val in mid_vals[1:]:\n",
    "            if abs((val - last_value)/last_value) >= tolerance/10000:  # Check if the value increased by 'tolerance' bps\n",
    "                last_value = val\n",
    "            adjusted_vals.append(last_value)\n",
    "\n",
    "        return pl.Series(adjusted_vals)\n",
    "    \n",
    "    \n",
    "    @staticmethod\n",
    "    def latest_orderbook(orderbooks: pl.DataFrame, t: int) -> pl.Series:\n",
    "        '''\n",
    "        Note: Do not use this function in a iter loop, which is SLOW\n",
    "        \n",
    "        PARAMS:\n",
    "          t: timestamp, 1e15\n",
    "\n",
    "        RETURN: The closest order book information to the timestamp\n",
    "        '''\n",
    "        res = (orderbooks.filter(pl.col('timestamp') <= t)\n",
    "                                .sort(['timestamp', 'local_timestamp'])\n",
    "                                .tail(1))\n",
    "        return res\n",
    "    \n",
    "    \n",
    "    @staticmethod\n",
    "    def match_orderbooks(orderbooks: pl.DataFrame, timestamps: pl.Series) -> pl.DataFrame:\n",
    "        '''\n",
    "        Match order book in orderbook_collection for each timestamp in the timestamps series\n",
    "        \n",
    "        PARAMS:\n",
    "          orderbooks: Order books collection, ordered by (timestamp, local_timestamp)\n",
    "          timestamps: a Series of (unique) timestamps\n",
    "\n",
    "        RETURN: Subset of orderbook_collection (attached after timestamps), find the nearest orderbook for each timestamp in timestamps.\n",
    "        '''\n",
    "        # Step 1: Sort orderbooks by timestamp and local_timestamp\n",
    "        orderbooks = orderbooks.sort(by=['timestamp', 'local_timestamp'], descending=[False, True])\n",
    "\n",
    "        # Step 2: Deduplicate orderbooks by timestamp, keeping the one with the largest local_timestamp\n",
    "        dedup_orderbooks = orderbooks.unique(subset=['timestamp'], keep='first')\n",
    "\n",
    "        # Step 3: Create a DataFrame from timestamps Series\n",
    "        timestamps_df = pl.DataFrame({'matched_timestamp': timestamps})\n",
    "\n",
    "        # Step 4: Perform an asof join to match the nearest order book timestamp\n",
    "        res = timestamps_df.join_asof(\n",
    "            dedup_orderbooks, \n",
    "            left_on='matched_timestamp', \n",
    "            right_on='timestamp', \n",
    "            strategy='backward'\n",
    "        )\n",
    "\n",
    "        return res\n",
    "    \n",
    "    \n",
    "    def __match_mid_price(self, orderbooks: pl.DataFrame, timestamps: pl.Series) -> pl.Series:\n",
    "        '''\n",
    "        Match order book in orderbook_collection for each timestamp in the timestamps series\n",
    "        \n",
    "        PARAMS:\n",
    "          orderbooks: Order books collection, ordered by (timestamp, local_timestamp)\n",
    "          timestamps: a Series of (unique) timestamps\n",
    "\n",
    "        RETURN: Subset of orderbook_collection (attached after timestamps), find the nearest orderbook for each timestamp in timestamps.\n",
    "        '''\n",
    "        matched_orderbooks = self.match_orderbooks(orderbooks, timestamps)\n",
    "        \n",
    "        #only return a two cols dataframe, timestamp and mid_price\n",
    "        res = matched_orderbooks.select([\n",
    "            ((pl.col('asks[0].price') + pl.col('bids[0].price'))/2).alias('mid_price')\n",
    "        ]).to_series()\n",
    "\n",
    "        return res\n",
    "    \n",
    "       \n",
    "    @staticmethod\n",
    "    def get_first_element_from_cat(df: pl.DataFrame, cat_var: str, var_name: str = 'arrive_timestamp') -> pl.DataFrame:\n",
    "        df = (df\n",
    "              .with_columns([\n",
    "                  # Extract 'interval_start' from 'bin'\n",
    "                  pl.col(cat_var).cast(pl.Utf8).str.extract(r\"\\(([^,]+),\", 1).alias(\"interval_start\")\n",
    "              ])\n",
    "              .filter(\n",
    "                # Filter out rows where 'interval_start' is '-inf'\n",
    "                pl.col(\"interval_start\") != '-inf'\n",
    "              )\n",
    "              .with_columns([\n",
    "                # Convert 'interval_start' to Int64 and alias as 'interval'\n",
    "                pl.col('interval_start').cast(pl.Int64).alias(var_name)\n",
    "              ]).drop([cat_var, 'interval_start'])\n",
    "             )\n",
    "        \n",
    "        return df\n",
    "    \n",
    "    \n",
    "    @staticmethod\n",
    "    def get_queue_per_side(orderbooks: pl.DataFrame, our_orders: pl.DataFrame, side: str, levels: int = 10) -> pl.DataFrame:\n",
    "            '''\n",
    "            Get the order queue for bid and ask side.\n",
    "            \n",
    "            PARAMS:\n",
    "                orderbooks: one side orderbook data\n",
    "                our_orders: information of our orders, including order_arrived_time, quote_px, etc.\n",
    "                side: 'bid' or 'ask'\n",
    "            \n",
    "            RETURN: Get the lowest quantity during that period for price level of our order as our queue position (strict assumption)\n",
    "            '''\n",
    "            # Attach corresponding order_arrived_time and quote_px to related orderbook data\n",
    "            reverse_dir = {'ask': 'bid', 'bid': 'ask'}\n",
    "                \n",
    "            orderbooks = orderbooks.select([col for col in orderbooks.columns if reverse_dir[side] not in col])\n",
    "            orderbooks = orderbooks.join(our_orders[['order_arrived_time', f\"{side}_quote_px\"]], on = ['order_arrived_time'], how = 'left')\n",
    "            \n",
    "            # Filter the vaild orderbooks which is before the first time of our quote price being hitted.\n",
    "            if side == 'bid':\n",
    "                ob_tmp = orderbooks.filter(\n",
    "                    pl.col(f\"{side}s[0].price\") <= pl.col(f\"{side}_quote_px\")\n",
    "                )\n",
    "            elif side == 'ask':\n",
    "                ob_tmp = orderbooks.filter(\n",
    "                    pl.col(f\"{side}s[0].price\") >= pl.col(f\"{side}_quote_px\")\n",
    "                )\n",
    "            \n",
    "            vaild_ts = ob_tmp.group_by('order_arrived_time').agg([\n",
    "                pl.col(\"local_timestamp\").first()\n",
    "            ])\n",
    "            \n",
    "            orderbooks = orderbooks.join(vaild_ts, on = ['order_arrived_time'], how = 'left').fill_null(0)\n",
    "            orderbooks = orderbooks.filter(\n",
    "                pl.col(\"local_timestamp\") < pl.col(\"local_timestamp_right\")\n",
    "            )\n",
    "            \n",
    "            # Only keep those rows that contain the same price as the quote_px for next step, to save memory\n",
    "            bid_columns = [f\"{side}s[{i}].price\" for i in range(levels)]\n",
    "            conditions = reduce(lambda acc, col: acc | (orderbooks[col] == orderbooks[f\"{side}_quote_px\"]), bid_columns, orderbooks[bid_columns[0]] == orderbooks[f\"{side}_quote_px\"])\n",
    "            orderbooks_filtered = orderbooks.filter(conditions)\n",
    "            \n",
    "            # Span the price and amount col for next filter step\n",
    "            price_cols = [col for col in orderbooks_filtered.columns if col.endswith('.price')]\n",
    "            amount_cols = [col for col in orderbooks_filtered.columns if col.endswith('.amount')]\n",
    "            \n",
    "            ob_price_long = orderbooks_filtered.unpivot(on=price_cols, index=['local_timestamp', 'order_arrived_time', f\"{side}_quote_px\"], variable_name='price_level', value_name='price')\n",
    "            ob_amount_long = orderbooks_filtered.unpivot(on=amount_cols, index=['local_timestamp', 'order_arrived_time', f\"{side}_quote_px\"], variable_name='amount_level', value_name='amount')\n",
    "            \n",
    "            ob_price_long = ob_price_long.with_columns([\n",
    "                pl.col(\"price_level\").str.replace(\"price\", \"amount\").alias(\"amount_level\")\n",
    "            ])\n",
    "            \n",
    "            orderbooks_long = ob_price_long.join(ob_amount_long, on=['local_timestamp', 'amount_level', 'order_arrived_time', f\"{side}_quote_px\"], how = 'left')\n",
    "            \n",
    "            # Filter the orderbooks_long condition on the quote_px, finally concat it back to our_orders\n",
    "            orderbooks_long = orderbooks_long.filter(\n",
    "                pl.col('price') == pl.col(f'{side}_quote_px')\n",
    "            )\n",
    "            \n",
    "            our_queue = orderbooks_long.group_by('order_arrived_time').agg([\n",
    "                pl.col('amount').min().alias(f'{side}_order_queue')\n",
    "            ])\n",
    "                        \n",
    "            return our_queue\n",
    "        \n",
    "    \n",
    "    @staticmethod\n",
    "    def get_traded_volume_per_side(trades: pl.DataFrame, our_orders: pl.DataFrame, side: str) -> pl.DataFrame:\n",
    "        '''\n",
    "        Given quote price and trades data, get the volume being traded at and below our quote price\n",
    "        \n",
    "        PARAMS:\n",
    "          trades: Trades collection, ordered by (timestamp, local_timestamp)\n",
    "          our_orders: information of our orders, including order_arrived_time, quote_px, etc.\n",
    "          side: 'bid' or 'ask'\n",
    "\n",
    "        RETURN: Get a series of volume traded within our quote price. (i.e. sell trades whose price lower than our bid, buy trades whose price higher than our ask)\n",
    "        '''\n",
    "        \n",
    "        # Attach corresponding order_arrived_time and quote_px to related trades data (bid order related to sell trades)\n",
    "        convert_dic = {'bid': 'sell', 'ask': 'buy'}\n",
    "        \n",
    "        trades = trades.filter(\n",
    "            pl.col('side') == convert_dic[side]\n",
    "        )\n",
    "        \n",
    "        trades = trades.join(our_orders[['order_arrived_time', f'{side}_quote_px']], on = ['order_arrived_time'], how = 'left')\n",
    "        \n",
    "        # Filter those trades that are traded at a price within our quote price\n",
    "        if side == 'bid':\n",
    "            valid_trades = trades.filter(\n",
    "                pl.col('price') <= pl.col(f'{side}_quote_px')\n",
    "            )\n",
    "        elif side == 'ask':\n",
    "            valid_trades = trades.filter(\n",
    "                pl.col('price') >= pl.col(f'{side}_quote_px')\n",
    "            )\n",
    "        \n",
    "        valid_traded_volume = valid_trades.group_by('order_arrived_time').agg([\n",
    "            pl.col('amount').sum().alias(f'{convert_dic[side]}_volume')\n",
    "        ])\n",
    "        \n",
    "        return valid_traded_volume\n",
    "    \n",
    "    \n",
    "    def get_markout_per_side(self, orderbooks: pl.DataFrame, our_orders: pl.DataFrame, side: str) -> pl.DataFrame:\n",
    "        '''\n",
    "        Given a orderbook and our orders, using the first time that our quote price being breached as start time, calculate the markout since then.\n",
    "        \n",
    "        PARAMS:\n",
    "            orderbooks: one side orderbook data\n",
    "            our_orders: information of our orders, including order_arrived_time, quote_px, etc.\n",
    "            side: 'bid' or 'ask'\n",
    "\n",
    "        RETURN: Calculate the mark out since the first time market price reach our quote price.\n",
    "        '''\n",
    "        # Only keep bbo data from orderbooks\n",
    "        bbos = orderbooks.select([\n",
    "            pl.col('timestamp'),\n",
    "            pl.col('local_timestamp'),\n",
    "            pl.col('asks[0].price'),\n",
    "            pl.col('bids[0].price'),\n",
    "            pl.col('order_arrived_time')\n",
    "        ])\n",
    "        \n",
    "        bbos = bbos.join(our_orders[['order_arrived_time', f\"{side}_quote_px\"]], on = ['order_arrived_time'], how = 'left')\n",
    "        \n",
    "        # Filter the vaild orderbooks which is before the first time of our quote price being hitted.\n",
    "        if side == 'bid':\n",
    "            ob_tmp = bbos.filter(\n",
    "                pl.col(f\"{side}s[0].price\") <= pl.col(f\"{side}_quote_px\")\n",
    "            )\n",
    "        elif side == 'ask':\n",
    "            ob_tmp = bbos.filter(\n",
    "                pl.col(f\"{side}s[0].price\") >= pl.col(f\"{side}_quote_px\")\n",
    "            )\n",
    "\n",
    "        valid_ts = ob_tmp.group_by('order_arrived_time').agg([\n",
    "            pl.col(\"timestamp\").first().alias(f'{side}_markout_start_ts'),\n",
    "            pl.col(f'{side}_quote_px').first()\n",
    "        ])\n",
    "        \n",
    "        valid_ts = valid_ts.sort(f'{side}_markout_start_ts')\n",
    "                \n",
    "        one_ms = 1000\n",
    "        one_sec = 1000000\n",
    "        valid_ts = valid_ts.with_columns([\n",
    "            pl.col(f'{side}_markout_start_ts'),\n",
    "            (pl.col(f'{side}_markout_start_ts') + 1*one_ms).alias(f'{side}_1ms'),\n",
    "            (pl.col(f'{side}_markout_start_ts') + 5*one_ms).alias(f'{side}_5ms'),\n",
    "            (pl.col(f'{side}_markout_start_ts') + 10*one_ms).alias(f'{side}_10ms'),\n",
    "            (pl.col(f'{side}_markout_start_ts') + 50*one_ms).alias(f'{side}_50ms'),\n",
    "            (pl.col(f'{side}_markout_start_ts') + 100*one_ms).alias(f'{side}_100ms'),\n",
    "            (pl.col(f'{side}_markout_start_ts') + 500*one_ms).alias(f'{side}_500ms'),\n",
    "            (pl.col(f'{side}_markout_start_ts') + 1*one_sec).alias(f'{side}_1s'),\n",
    "            (pl.col(f'{side}_markout_start_ts') + 5*one_sec).alias(f'{side}_5s'),\n",
    "            (pl.col(f'{side}_markout_start_ts') + 10*one_sec).alias(f'{side}_10s'),\n",
    "            (pl.col(f'{side}_markout_start_ts') + 50*one_sec).alias(f'{side}_50s'),\n",
    "            (pl.col(f'{side}_markout_start_ts') + 100*one_sec).alias(f'{side}_100s'),\n",
    "            (pl.col(f'{side}_markout_start_ts') + 500*one_sec).alias(f'{side}_500s'),\n",
    "            (pl.col(f'{side}_markout_start_ts') + 1000*one_sec).alias(f'{side}_1000s')\n",
    "        ])\n",
    "        \n",
    "        valid_price = valid_ts.select([\n",
    "            pl.col('order_arrived_time'),\n",
    "            pl.col(f'{side}_markout_start_ts'),\n",
    "            pl.col(f'{side}_quote_px').alias(f'{side}_price_start'),\n",
    "            pl.col(f'{side}_1ms').map_batches(lambda markout_ts: self.__match_mid_price(bbos, markout_ts)).alias(f'{side}_price_1ms'),\n",
    "            pl.col(f'{side}_5ms').map_batches(lambda markout_ts: self.__match_mid_price(bbos, markout_ts)).alias(f'{side}_price_5ms'),\n",
    "            pl.col(f'{side}_10ms').map_batches(lambda markout_ts: self.__match_mid_price(bbos, markout_ts)).alias(f'{side}_price_10ms'),\n",
    "            pl.col(f'{side}_50ms').map_batches(lambda markout_ts: self.__match_mid_price(bbos, markout_ts)).alias(f'{side}_price_50ms'),\n",
    "            pl.col(f'{side}_100ms').map_batches(lambda markout_ts: self.__match_mid_price(bbos, markout_ts)).alias(f'{side}_price_100ms'),\n",
    "            pl.col(f'{side}_500ms').map_batches(lambda markout_ts: self.__match_mid_price(bbos, markout_ts)).alias(f'{side}_price_500ms'),\n",
    "            pl.col(f'{side}_1s').map_batches(lambda markout_ts: self.__match_mid_price(bbos, markout_ts)).alias(f'{side}_price_1s'),\n",
    "            pl.col(f'{side}_5s').map_batches(lambda markout_ts: self.__match_mid_price(bbos, markout_ts)).alias(f'{side}_price_5s'),\n",
    "            pl.col(f'{side}_10s').map_batches(lambda markout_ts: self.__match_mid_price(bbos, markout_ts)).alias(f'{side}_price_10s'),\n",
    "            pl.col(f'{side}_50s').map_batches(lambda markout_ts: self.__match_mid_price(bbos, markout_ts)).alias(f'{side}_price_50s'),\n",
    "            pl.col(f'{side}_100s').map_batches(lambda markout_ts: self.__match_mid_price(bbos, markout_ts)).alias(f'{side}_price_100s'),\n",
    "            pl.col(f'{side}_500s').map_batches(lambda markout_ts: self.__match_mid_price(bbos, markout_ts)).alias(f'{side}_price_500s'),\n",
    "            pl.col(f'{side}_1000s').map_batches(lambda markout_ts: self.__match_mid_price(bbos, markout_ts)).alias(f'{side}_price_1000s')\n",
    "        ])\n",
    "        \n",
    "        \n",
    "        if side == 'bid':\n",
    "            valid_markout = valid_price.select([\n",
    "                pl.col('order_arrived_time'),\n",
    "                pl.col(f'{side}_markout_start_ts'),\n",
    "                pl.col(f'{side}_price_start'),\n",
    "                (self.rebates + 10000*(pl.col(f'{side}_price_1ms')-pl.col(f'{side}_price_start'))/pl.col(f'{side}_price_start')).alias(f'{side}_markout_1ms'),\n",
    "                (self.rebates + 10000*(pl.col(f'{side}_price_5ms')-pl.col(f'{side}_price_start'))/pl.col(f'{side}_price_start')).alias(f'{side}_markout_5ms'),\n",
    "                (self.rebates + 10000*(pl.col(f'{side}_price_10ms')-pl.col(f'{side}_price_start'))/pl.col(f'{side}_price_start')).alias(f'{side}_markout_10ms'),\n",
    "                (self.rebates + 10000*(pl.col(f'{side}_price_50ms')-pl.col(f'{side}_price_start'))/pl.col(f'{side}_price_start')).alias(f'{side}_markout_50ms'),\n",
    "                (self.rebates + 10000*(pl.col(f'{side}_price_100ms')-pl.col(f'{side}_price_start'))/pl.col(f'{side}_price_start')).alias(f'{side}_markout_100ms'),\n",
    "                (self.rebates + 10000*(pl.col(f'{side}_price_500ms')-pl.col(f'{side}_price_start'))/pl.col(f'{side}_price_start')).alias(f'{side}_markout_500ms'),\n",
    "                (self.rebates + 10000*(pl.col(f'{side}_price_1s')-pl.col(f'{side}_price_start'))/pl.col(f'{side}_price_start')).alias(f'{side}_markout_1s'),\n",
    "                (self.rebates + 10000*(pl.col(f'{side}_price_5s')-pl.col(f'{side}_price_start'))/pl.col(f'{side}_price_start')).alias(f'{side}_markout_5s'),\n",
    "                (self.rebates + 10000*(pl.col(f'{side}_price_10s')-pl.col(f'{side}_price_start'))/pl.col(f'{side}_price_start')).alias(f'{side}_markout_10s'),\n",
    "                (self.rebates + 10000*(pl.col(f'{side}_price_50s')-pl.col(f'{side}_price_start'))/pl.col(f'{side}_price_start')).alias(f'{side}_markout_50s'),\n",
    "                (self.rebates + 10000*(pl.col(f'{side}_price_100s')-pl.col(f'{side}_price_start'))/pl.col(f'{side}_price_start')).alias(f'{side}_markout_100s'),\n",
    "                (self.rebates + 10000*(pl.col(f'{side}_price_500s')-pl.col(f'{side}_price_start'))/pl.col(f'{side}_price_start')).alias(f'{side}_markout_500s'),\n",
    "                (self.rebates + 10000*(pl.col(f'{side}_price_1000s')-pl.col(f'{side}_price_start'))/pl.col(f'{side}_price_start')).alias(f'{side}_markout_1000s')\n",
    "            ])\n",
    "        elif side == 'ask':\n",
    "            valid_markout = valid_price.select([\n",
    "                pl.col('order_arrived_time'),\n",
    "                pl.col(f'{side}_markout_start_ts'),\n",
    "                pl.col(f'{side}_price_start'),\n",
    "                (self.rebates + 10000*(pl.col(f'{side}_price_start')-pl.col(f'{side}_price_1ms'))/pl.col(f'{side}_price_start')).alias(f'{side}_markout_1ms'),\n",
    "                (self.rebates + 10000*(pl.col(f'{side}_price_start')-pl.col(f'{side}_price_5ms'))/pl.col(f'{side}_price_start')).alias(f'{side}_markout_5ms'),\n",
    "                (self.rebates + 10000*(pl.col(f'{side}_price_start')-pl.col(f'{side}_price_10ms'))/pl.col(f'{side}_price_start')).alias(f'{side}_markout_10ms'),\n",
    "                (self.rebates + 10000*(pl.col(f'{side}_price_start')-pl.col(f'{side}_price_50ms'))/pl.col(f'{side}_price_start')).alias(f'{side}_markout_50ms'),\n",
    "                (self.rebates + 10000*(pl.col(f'{side}_price_start')-pl.col(f'{side}_price_100ms'))/pl.col(f'{side}_price_start')).alias(f'{side}_markout_100ms'),\n",
    "                (self.rebates + 10000*(pl.col(f'{side}_price_start')-pl.col(f'{side}_price_500ms'))/pl.col(f'{side}_price_start')).alias(f'{side}_markout_500ms'),\n",
    "                (self.rebates + 10000*(pl.col(f'{side}_price_start')-pl.col(f'{side}_price_1s'))/pl.col(f'{side}_price_start')).alias(f'{side}_markout_1s'),\n",
    "                (self.rebates + 10000*(pl.col(f'{side}_price_start')-pl.col(f'{side}_price_5s'))/pl.col(f'{side}_price_start')).alias(f'{side}_markout_5s'),\n",
    "                (self.rebates + 10000*(pl.col(f'{side}_price_start')-pl.col(f'{side}_price_10s'))/pl.col(f'{side}_price_start')).alias(f'{side}_markout_10s'),\n",
    "                (self.rebates + 10000*(pl.col(f'{side}_price_start')-pl.col(f'{side}_price_50s'))/pl.col(f'{side}_price_start')).alias(f'{side}_markout_50s'),\n",
    "                (self.rebates + 10000*(pl.col(f'{side}_price_start')-pl.col(f'{side}_price_100s'))/pl.col(f'{side}_price_start')).alias(f'{side}_markout_100s'),\n",
    "                (self.rebates + 10000*(pl.col(f'{side}_price_start')-pl.col(f'{side}_price_500s'))/pl.col(f'{side}_price_start')).alias(f'{side}_markout_500s'),\n",
    "                (self.rebates + 10000*(pl.col(f'{side}_price_start')-pl.col(f'{side}_price_1000s'))/pl.col(f'{side}_price_start')).alias(f'{side}_markout_1000s')\n",
    "            ])\n",
    "            \n",
    "        return valid_markout\n",
    "    \n",
    "    \n",
    "    ###################\n",
    "    ## Main Function ##\n",
    "    ###################\n",
    "\n",
    "    def calculate_midval(self, strat_ma_window: int = 1) -> None: # Calculate the mid_val for market making pricing\n",
    "        '''\n",
    "        This can be overided, the default one is simply using BBO mid_price as fair price\n",
    "        \n",
    "        PARAMS:\n",
    "            strat_ma_window: moving average window, 1 means original data\n",
    "        '''\n",
    "        # Calculate the mid price (from BBO) as the fair price\n",
    "        mid_price_bnc = (self.orderbooks_bnc['asks[0].price'] + self.orderbooks_bnc['bids[0].price'])/2\n",
    "\n",
    "        # Initialize mid_val using moving average of binance wmid_price\n",
    "        if self.mid_val_ts is None:\n",
    "            mid_price_ma = mid_price_bnc.rolling_mean(window_size=strat_ma_window).round(2).fill_null(0)\n",
    "            self.mid_val_ts = pl.DataFrame({\n",
    "                'timestamp': self.orderbooks_bnc['timestamp'],\n",
    "                'mid_val': mid_price_ma\n",
    "            })\n",
    "        else:\n",
    "            raise('The mid_val has been initialized already, need to restart the backtest')\n",
    "    \n",
    "    \n",
    "    def post_midval(self) -> None:\n",
    "        '''\n",
    "        Pull out some necessary step before sedning mid-val, in case of dupulication in stratey overwriting\n",
    "        '''\n",
    "        # Tolerance for mid_val updating\n",
    "        tolerance = self.update_tol\n",
    "        self.mid_val_ts = self.mid_val_ts.with_columns([\n",
    "            pl.col('mid_val').map_batches(lambda mid_val_ts: self.adjust_mid_val(mid_val_ts, tolerance)).alias('adjusted_mid_val')\n",
    "        ])\n",
    "        \n",
    "        # Only keep the mid_val when it was updated\n",
    "        orders = self.mid_val_ts.filter(\n",
    "            pl.col('adjusted_mid_val') != pl.col('adjusted_mid_val').shift(1).fill_null(0)\n",
    "        )\n",
    "        \n",
    "        self.orders = orders.select([\n",
    "            pl.col('timestamp'),\n",
    "            pl.col('adjusted_mid_val').alias('mid_val'),\n",
    "        ])\n",
    "        \n",
    "    \n",
    "    def quote_around_midval(self) -> None:\n",
    "        '''\n",
    "        Place quotes based on updated mid val\n",
    "        '''\n",
    "        # Calculate the order information        \n",
    "        self.orders = self.orders.with_columns([\n",
    "            (pl.col('mid_val') * (1 - self.min_margin/10000)).round(1).alias('bid_quote_px'),\n",
    "            pl.lit(self.order_qty).alias('bid_quote_size'),\n",
    "            (pl.col('mid_val') * (1 + self.min_margin/10000)).round(1).alias('ask_quote_px'),\n",
    "            pl.lit(self.order_qty).alias('ask_quote_size')\n",
    "        ])\n",
    "    \n",
    "    \n",
    "    def post_quotes(self) -> None:\n",
    "        '''\n",
    "        Pull out some necessary step before sending orders, in case of dupulication in stratey overwriting\n",
    "        '''\n",
    "        # Attach corresponding market price\n",
    "        nearest_orderbooks = self.match_orderbooks(orderbooks = self.orderbooks_bnc, timestamps = self.orders['timestamp'])\n",
    "        \n",
    "        best_bbo = nearest_orderbooks.select([\n",
    "            pl.col('matched_timestamp').alias('timestamp'),\n",
    "            pl.col('bids[0].price').alias('bid_mkt_px'),\n",
    "            pl.col('bids[0].amount').alias('bid_mkt_amount'),\n",
    "            pl.col('asks[0].price').alias('ask_mkt_px'),\n",
    "            pl.col('asks[0].amount').alias('ask_mkt_amount'),\n",
    "            pl.col('recv_latency'),\n",
    "            pl.col('next_recv_latency')\n",
    "        ])\n",
    "                \n",
    "        self.orders = self.orders.join(best_bbo, on='timestamp', how='left')\n",
    "        \n",
    "        \n",
    "        \n",
    "    def apply_latency(self) -> None:\n",
    "        '''\n",
    "        Apply latency to the orders we sent, which will determine the time when the order arrive exchanges.\n",
    "        '''\n",
    "        # filter those order whose latency is within latency range, e.g. (0, 50)\n",
    "        self.orders_latency_applied = self.orders.filter(pl.col('recv_latency') >= self.latency_range[0] * 1000)\n",
    "        self.orders_latency_applied = self.orders_latency_applied.filter(pl.col('recv_latency') <= self.latency_range[1] * 1000)\n",
    "        \n",
    "        # fixed -> fixed latency, dynamic -> nearest multiplier of 5ms (5ms, 10ms, 15ms, etc) to smooth latency\n",
    "        if self.latency_type == 'fixed':\n",
    "            self.orders_latency_applied = self.orders_latency_applied.with_columns([\n",
    "                pl.lit(self.default_latency * 1000).alias('send_latency')\n",
    "            ])\n",
    "        # Dynamic 有一个假设, 就是我们用的下一个order的latency而不是前一个order, 但是这个不能作为筛选只能用作环境回测, 因为这是未来信息\n",
    "        # 不稳定, 因为总有一些后来发出的order先到达exchange的情况\n",
    "        elif self.latency_type == 'dynamic':\n",
    "            self.orders_latency_applied = self.orders_latency_applied.with_columns([\n",
    "                pl.when((pl.col(\"next_recv_latency\") + 2500) // 5000 * 5000 < 5000)\n",
    "                  .then(5000)\n",
    "                  .otherwise((pl.col(\"next_recv_latency\") + 2500) // 5000 * 5000)\n",
    "                  .alias(\"send_latency\")\n",
    "            ])\n",
    "            \n",
    "        self.orders_latency_applied = self.orders_latency_applied.with_columns([\n",
    "            (pl.col('timestamp') + pl.col('recv_latency') + pl.col('send_latency')).alias('order_arrived_time')\n",
    "        ])\n",
    "        \n",
    "        # Get corresponding market price\n",
    "        nearest_orderbooks = self.match_orderbooks(orderbooks = self.orderbooks_bnc, timestamps = self.orders_latency_applied['order_arrived_time'])\n",
    "        \n",
    "        best_bbo = nearest_orderbooks.select([\n",
    "            pl.col('matched_timestamp').alias('order_arrived_time'),\n",
    "            pl.col('bids[0].price').alias('bid_mkt_px_arrive'),\n",
    "            pl.col('bids[0].amount').alias('bid_mkt_amount_arrive'),\n",
    "            pl.col('asks[0].price').alias('ask_mkt_px_arrive'),\n",
    "            pl.col('asks[0].amount').alias('ask_mkt_amount_arrive'),\n",
    "        ])\n",
    "        \n",
    "        orders_latency_applied = self.orders_latency_applied.join(best_bbo, on='order_arrived_time', how='left')\n",
    "        orders_latency_applied = orders_latency_applied.with_columns([\n",
    "            (pl.col('bid_quote_px') < pl.col('ask_mkt_px_arrive')).alias('bid_quote_valid'),\n",
    "            (pl.col('ask_quote_px') > pl.col('bid_mkt_px_arrive')).alias('ask_quote_valid')\n",
    "        ])\n",
    "\n",
    "        duplicates = orders_latency_applied['order_arrived_time'].is_duplicated()\n",
    "        if duplicates.any():\n",
    "            ts = orders_latency_applied.filter(duplicates)['timestamp'][0]\n",
    "            print(f'There is duplicated order arrived time, check order book at {ts}')\n",
    "            \n",
    "        self.orders_latency_applied = orders_latency_applied\n",
    "        \n",
    "    \n",
    "    def apply_queue(self, search_levels: int = 10) -> pl.DataFrame:\n",
    "        '''\n",
    "        Get the order queue for each order we sent to the exchange. (best queue until it was at top of the book)\n",
    "        '''\n",
    "    \n",
    "        # Drop arrived time duplication\n",
    "        our_orders = self.orders_latency_applied\n",
    "        our_orders = our_orders.unique(subset=['order_arrived_time'], keep='first')\n",
    "        \n",
    "        orderbooks = self.orderbooks_bnc\n",
    "        \n",
    "        orderbooks = orderbooks.with_columns([\n",
    "            pl.col('timestamp').cut(our_orders['order_arrived_time']).alias('bins')\n",
    "        ])\n",
    "\n",
    "        orderbooks = self.get_first_element_from_cat(df = orderbooks, cat_var = 'bins', var_name = 'order_arrived_time')\n",
    "        \n",
    "        our_bid_queue = self.get_queue_per_side(orderbooks = orderbooks, our_orders = our_orders, side='bid', levels=search_levels)\n",
    "        our_ask_queue = self.get_queue_per_side(orderbooks = orderbooks, our_orders = our_orders, side='ask', levels=search_levels)\n",
    "        \n",
    "        our_orders_queue_added = our_orders.join(our_bid_queue, on='order_arrived_time', how='left').fill_null(0)\n",
    "        our_orders_queue_added = our_orders_queue_added.join(our_ask_queue, on='order_arrived_time', how='left').fill_null(0)\n",
    "\n",
    "        self.orders_queue_added = our_orders_queue_added\n",
    "    \n",
    "    \n",
    "    def get_filled_position(self):\n",
    "        '''\n",
    "        Get filled amount of the orders we sent\n",
    "        '''\n",
    "        our_orders = self.orders_queue_added\n",
    "        trades = self.trades_bnc\n",
    "        \n",
    "        trades = trades.with_columns([\n",
    "            pl.col('timestamp').cut(our_orders['order_arrived_time']).alias('bins')\n",
    "        ])\n",
    "                \n",
    "        trades = self.get_first_element_from_cat(df = trades, cat_var = 'bins', var_name = 'order_arrived_time')\n",
    "        \n",
    "        buy_volume = self.get_traded_volume_per_side(trades, our_orders, side='ask')\n",
    "        sell_volume = self.get_traded_volume_per_side(trades, our_orders, side='bid')\n",
    "        \n",
    "        our_orders_trades_matched = our_orders.join(buy_volume, on='order_arrived_time', how='left').fill_null(0)\n",
    "        our_orders_trades_matched = our_orders_trades_matched.join(sell_volume, on='order_arrived_time', how='left').fill_null(0)\n",
    "        \n",
    "        our_orders_trades_matched = our_orders_trades_matched.with_columns([\n",
    "            pl.min_horizontal(\n",
    "                pl.col('sell_volume') - pl.col('bid_order_queue'),\n",
    "                pl.col('bid_quote_size')\n",
    "            ).alias('bid_filled_size'),\n",
    "\n",
    "            pl.min_horizontal(\n",
    "                pl.col('buy_volume') - pl.col('ask_order_queue'),\n",
    "                pl.col('ask_quote_size')\n",
    "            ).alias('ask_filled_size')\n",
    "        ])\n",
    "        \n",
    "        # If filled size < 0, we set it to be 0.\n",
    "        our_orders_trades_matched = our_orders_trades_matched.with_columns(\n",
    "            pl.when(pl.col(\"bid_filled_size\") < 0)\n",
    "              .then(pl.lit(0))  # Set to 0 if the condition is True\n",
    "              .otherwise(pl.col(\"bid_filled_size\"))  # Keep original value otherwise\n",
    "              .alias(\"bid_filled_size\"),  # Replace the column\n",
    "            \n",
    "            pl.when(pl.col(\"ask_filled_size\") < 0)\n",
    "              .then(pl.lit(0))  # Set to 0 if the condition is True\n",
    "              .otherwise(pl.col(\"ask_filled_size\"))  # Keep original value otherwise\n",
    "              .alias(\"ask_filled_size\")  # Replace the column\n",
    "        )\n",
    "        \n",
    "        \n",
    "        self.orders_trades_matched = our_orders_trades_matched        \n",
    "        \n",
    "    \n",
    "    ##################################\n",
    "    ## Post-trade Analysis Function ##\n",
    "    ##################################\n",
    "\n",
    "    def calculate_markout(self):\n",
    "        '''\n",
    "        Calculate the markout\n",
    "        '''\n",
    "        our_orders = self.orders_trades_matched\n",
    "        orderbooks = self.orderbooks_bnc\n",
    "        \n",
    "        # Turncate our orders data\n",
    "        sample_truncate = self.tail_sample_truncate * 1000000\n",
    "        time_anchor = orderbooks['timestamp'][-1] - sample_truncate\n",
    "        our_orders = our_orders.filter(\n",
    "            our_orders['timestamp'] <= time_anchor\n",
    "        )\n",
    "        \n",
    "        orderbooks = orderbooks.with_columns([\n",
    "            pl.col('timestamp').cut(our_orders['order_arrived_time']).alias('bins')\n",
    "        ])\n",
    "\n",
    "        orderbooks = self.get_first_element_from_cat(df = orderbooks, cat_var = 'bins', var_name = 'order_arrived_time')\n",
    "        \n",
    "        # return self.get_markout_per_side(orderbooks, our_orders, side='bid')\n",
    "        bid_side_markout = self.get_markout_per_side(orderbooks, our_orders, side='bid')\n",
    "        ask_side_markout = self.get_markout_per_side(orderbooks, our_orders, side='ask')\n",
    "        \n",
    "        our_orders_markout_added = our_orders.join(bid_side_markout, on = ['order_arrived_time'], how = 'left')#.fill_null(0)\n",
    "        our_orders_markout_added = our_orders_markout_added.join(ask_side_markout, on = ['order_arrived_time'], how = 'left')#.fill_null(0)\n",
    "\n",
    "        self.orders_markout_added = our_orders_markout_added\n",
    "    \n",
    "    \n",
    "    def merge_markout(self):\n",
    "        '''\n",
    "        Get the pure markout data for plot and metric calculation\n",
    "        '''\n",
    "        # Extract the relevant bid/ask markout columns\n",
    "        df = self.orders_markout_added\n",
    "        \n",
    "        bid_markout_columns = [col for col in df.columns if col.startswith('bid_markout')]\n",
    "        bid_markout_columns.remove('bid_markout_start_ts')\n",
    "        ask_markout_columns = [col for col in df.columns if col.startswith('ask_markout')]\n",
    "        ask_markout_columns.remove('ask_markout_start_ts')\n",
    "\n",
    "        # Define a function to multiply sizes with corresponding markouts for bid/ask\n",
    "        def multiply_markouts(df: pl.DataFrame, size_column: str, markout_columns: [str]) -> pl.DataFrame:\n",
    "            for col in markout_columns:\n",
    "                new_col_name = f\"{col}_fill_rate_applied\"\n",
    "                #quote_size_col = size_column[0:3] + '_quote_size'\n",
    "                total_filled_amount = df[size_column].sum()\n",
    "                sample_num = df.shape[0]\n",
    "                df = df.with_columns(\n",
    "                    (pl.col(size_column) * pl.col(col) / total_filled_amount * sample_num).alias(new_col_name)\n",
    "                )\n",
    "            return df\n",
    "        \n",
    "        df = multiply_markouts(df, 'bid_filled_size', bid_markout_columns)\n",
    "        df = multiply_markouts(df, 'ask_filled_size', ask_markout_columns)\n",
    "                        \n",
    "        bid_markout_columns_filled = [col + '_fill_rate_applied' for col in bid_markout_columns]\n",
    "        ask_markout_columns_filled = [col + '_fill_rate_applied' for col in ask_markout_columns]\n",
    "        \n",
    "        markout = df.select(bid_markout_columns_filled + ask_markout_columns_filled)\n",
    "                        \n",
    "        # Concat the bid and ask columns together\n",
    "        bid_columns = [col for col in markout.columns if 'bid_markout' in col]\n",
    "        bid_df = markout.select(bid_columns)\n",
    "        bid_column_names = {col: col.replace('bid_', '') for col in bid_df.columns}\n",
    "        bid_df = bid_df.rename(bid_column_names)\n",
    "\n",
    "        ask_columns = [col for col in markout.columns if 'ask_markout' in col]\n",
    "        ask_df = markout.select(ask_columns)\n",
    "        ask_column_names = {col: col.replace('ask_', '') for col in ask_df.columns}\n",
    "        ask_df = ask_df.rename(ask_column_names)\n",
    "\n",
    "        df = pl.concat([bid_df, ask_df])\n",
    "        \n",
    "        # Filter those null row\n",
    "        df = df.filter(~pl.col('markout_1ms_fill_rate_applied').is_null())\n",
    "\n",
    "        self.markout_fill_rate_applied = df\n",
    "        \n",
    "\n",
    "    def plot(self):\n",
    "        # Load the data\n",
    "        data = self.markout_fill_rate_applied\n",
    "        data = data.to_pandas()\n",
    "\n",
    "        # Prepare the x-axis as the time intervals (log scale)\n",
    "        x_values = [0.001, 0.005, 0.01, 0.05, 0.1, 0.5, 1, 5, 10, 50, 100, 500, 1000]\n",
    "        x_labels = ['1ms', '5ms', '10ms', '50ms', '100ms', '500ms', '1s', '5s', '10s', '50s', '100s', '500s', '1000s']\n",
    "        markout_columns = [col for col in data.columns if 'markout' in col]\n",
    "\n",
    "        # Calculate mean, 10% quantile, and 90% quantile for each time interval\n",
    "        mean_values = data[markout_columns].mean()\n",
    "        quantile_10 = data[markout_columns].quantile(0.10)\n",
    "        quantile_90 = data[markout_columns].quantile(0.90)\n",
    "\n",
    "        # Create subplots with two plots side by side\n",
    "        fig = make_subplots(rows=1, cols=2, subplot_titles=(\"Markout Mean\", \"Mean with Quantiles\"))\n",
    "\n",
    "        # --- Left Plot: Mean Only ---\n",
    "        # Plot the mean values on the left plot (subplot 1, 1), and show the legend for the mean here only\n",
    "        fig.add_trace(go.Scatter(x=x_values, y=mean_values, mode='lines+markers',\n",
    "                                 name='Mean', line=dict(color='blue', width=2), marker=dict(symbol='circle', size=8)),\n",
    "                      row=1, col=1)\n",
    "\n",
    "        # --- Right Plot: Mean with Quantiles ---\n",
    "        # Plot the mean values with a line connecting them on the right plot, but hide the mean from the legend here\n",
    "        fig.add_trace(go.Scatter(x=x_values, y=mean_values, mode='lines+markers',\n",
    "                                 name='Mean', line=dict(color='blue', width=2), marker=dict(symbol='circle', size=8),\n",
    "                                 showlegend=False),  # Hide mean in this legend\n",
    "                      row=1, col=2)\n",
    "\n",
    "        # Plot vertical lines connecting 10%, mean, and 90% for each x value (no legend entry)\n",
    "        for i, x in enumerate(x_values):\n",
    "            fig.add_trace(go.Scatter(x=[x, x, x], y=[quantile_10.iloc[i], mean_values.iloc[i], quantile_90.iloc[i]],\n",
    "                                     mode='lines',\n",
    "                                     line=dict(color='gray', width=2),\n",
    "                                     showlegend=False),\n",
    "                          row=1, col=2)\n",
    "\n",
    "        # Plot the 10th percentile with dots\n",
    "        fig.add_trace(go.Scatter(x=x_values, y=quantile_10, mode='markers', name='10th Percentile',\n",
    "                                 marker=dict(color='green', symbol='circle', size=8)),\n",
    "                      row=1, col=2)\n",
    "\n",
    "        # Plot the 90th percentile with dots\n",
    "        fig.add_trace(go.Scatter(x=x_values, y=quantile_90, mode='markers', name='90th Percentile',\n",
    "                                 marker=dict(color='red', symbol='circle', size=8)),\n",
    "                      row=1, col=2)\n",
    "\n",
    "        # Customize the layout with explicit x-axis labels and separated legends\n",
    "        fig.update_layout(\n",
    "            title=\"Markout Data: Mean and Quantiles\",\n",
    "            xaxis=dict(title=\"Time Interval\", type='log', tickvals=x_values, ticktext=x_labels),  # Custom x-axis labels for left plot\n",
    "            xaxis2=dict(title=\"Time Interval\", type='log', tickvals=x_values, ticktext=x_labels),  # Custom x-axis labels for right plot\n",
    "            yaxis=dict(title=\"Mean Values\"),  # Left plot y-axis for mean values\n",
    "            yaxis2=dict(title=\"Values\"),  # Right plot y-axis for mean and quantiles\n",
    "            hovermode=\"x unified\",\n",
    "            template=\"plotly_white\",\n",
    "            width=2000,  # Set the total width of the plot\n",
    "            height=700   # Set the total height of the plot\n",
    "        )\n",
    "\n",
    "        # Show the interactive plot\n",
    "        fig.show()\n",
    "    \n",
    "    \n",
    "    def post_trades_analysis(self):\n",
    "        data = self.orders_markout_added\n",
    "        \n",
    "        bid_filled_volume = data['bid_filled_size'].sum()\n",
    "        ask_filled_volume = data['ask_filled_size'].sum()\n",
    "        \n",
    "        bid_fill_rate = bid_filled_volume / (data['bid_quote_size'] * data['bid_quote_valid']).sum()\n",
    "        ask_fill_rate = ask_filled_volume / (data['ask_quote_size'] * data['ask_quote_valid']).sum()\n",
    "        \n",
    "        stats = {\n",
    "            \"bid_filled_volume\": bid_filled_volume,\n",
    "            \"ask_filled_volume\": ask_filled_volume,\n",
    "            \"bid_fill_rate\": bid_fill_rate,\n",
    "            \"ask_fill_rate\": ask_fill_rate\n",
    "        }\n",
    "        \n",
    "        self.stats = pl.DataFrame(stats)\n",
    "        \n",
    "\n",
    "\n",
    "    ###################\n",
    "    ## Run Backtest! ##\n",
    "    ###################\n",
    "    \n",
    "    def update_strat_config(self, min_margin: float, order_qty: float, update_tol: float) -> None:\n",
    "        self.min_margin = min_margin\n",
    "        self.order_qty = order_qty\n",
    "        self.update_tol = update_tol\n",
    "    \n",
    "    def update_env_variables(self, default_latency: int, latency_type: str, rebates: float) -> None:\n",
    "        self.default_latency = default_latency\n",
    "        self.latency_type = latency_type\n",
    "        self.rebates = rebates\n",
    "        \n",
    "    def update_sample_filter(self, latency_range: (int, int), tail_sample_truncate: int) -> None:\n",
    "        '''\n",
    "        PARAMS:\n",
    "            latency_range: what is the latency range should be considered in our range\n",
    "            tail_sample_cut: how many seconds of sample at end of the day should be filter out for mark out calculation\n",
    "        '''\n",
    "        self.latency_range = latency_range\n",
    "        self.tail_sample_truncate = tail_sample_truncate\n",
    "        \n",
    "    def run_backtest(self):\n",
    "        # Strategy initializing\n",
    "        start_time = time.time()\n",
    "        self.calculate_midval()\n",
    "        print(f\"Time for calculate_midval: {time.time() - start_time:.6f} seconds\")\n",
    "\n",
    "        start_time = time.time()\n",
    "        self.post_midval()\n",
    "        print(f\"Time for post_midval: {time.time() - start_time:.6f} seconds\")\n",
    "\n",
    "        start_time = time.time()\n",
    "        self.quote_around_midval()\n",
    "        print(f\"Time for quote_around_midval: {time.time() - start_time:.6f} seconds\")\n",
    "\n",
    "        start_time = time.time()\n",
    "        self.post_quotes()\n",
    "        print(f\"Time for post_quotes: {time.time() - start_time:.6f} seconds\")\n",
    "\n",
    "        # Simulate trades\n",
    "        start_time = time.time()\n",
    "        self.apply_latency()\n",
    "        print(f\"Time for apply_latency: {time.time() - start_time:.6f} seconds\")\n",
    "\n",
    "        start_time = time.time()\n",
    "        self.apply_queue(search_levels=25)\n",
    "        print(f\"Time for apply_queue: {time.time() - start_time:.6f} seconds\")\n",
    "\n",
    "        start_time = time.time()\n",
    "        self.get_filled_position()\n",
    "        print(f\"Time for get_filled_position: {time.time() - start_time:.6f} seconds\")\n",
    "\n",
    "        # Post trades analysis\n",
    "        start_time = time.time()\n",
    "        self.calculate_markout()\n",
    "        print(f\"Time for calculate_markout: {time.time() - start_time:.6f} seconds\")\n",
    "\n",
    "        start_time = time.time()\n",
    "        self.merge_markout()\n",
    "        print(f\"Time for merge_markout: {time.time() - start_time:.6f} seconds\")\n",
    "\n",
    "        start_time = time.time()\n",
    "        self.post_trades_analysis()\n",
    "        print(f\"Time for post_trades_analysis: {time.time() - start_time:.6f} seconds\")"
   ]
  },
  {
   "cell_type": "code",
   "execution_count": 587,
   "id": "7f640c96-7528-4d78-903a-f32c5202dfe6",
   "metadata": {},
   "outputs": [
    {
     "name": "stdout",
     "output_type": "stream",
     "text": [
      "Time for calculate_midval: 0.164131 seconds\n",
      "Time for post_midval: 0.261795 seconds\n",
      "Time for quote_around_midval: 0.001793 seconds\n",
      "Time for post_quotes: 4.604585 seconds\n",
      "Time for apply_latency: 3.829267 seconds\n",
      "Time for apply_queue: 9.693796 seconds\n",
      "Time for get_filled_position: 2.525858 seconds\n",
      "Time for calculate_markout: 5.274944 seconds\n",
      "Time for merge_markout: 0.008982 seconds\n",
      "Time for post_trades_analysis: 0.000464 seconds\n"
     ]
    },
    {
     "data": {
      "application/vnd.plotly.v1+json": {
       "config": {
        "plotlyServerURL": "https://plot.ly"
       },
       "data": [
        {
         "line": {
          "color": "blue",
          "width": 2
         },
         "marker": {
          "size": 8,
          "symbol": "circle"
         },
         "mode": "lines+markers",
         "name": "Mean",
         "type": "scatter",
         "x": [
          0.001,
          0.005,
          0.01,
          0.05,
          0.1,
          0.5,
          1,
          5,
          10,
          50,
          100,
          500,
          1000
         ],
         "xaxis": "x",
         "y": [
          0.07347310366197707,
          0.07347310366197707,
          0.07347310366197707,
          0.07347310366197707,
          -0.25563825187762806,
          -0.7005568986381889,
          -0.8103581512320968,
          -0.9073543651504699,
          -0.9959368349508054,
          -0.7786955393265389,
          -0.823585851093767,
          -0.22249899777092258,
          -1.3892432861096538
         ],
         "yaxis": "y"
        },
        {
         "line": {
          "color": "blue",
          "width": 2
         },
         "marker": {
          "size": 8,
          "symbol": "circle"
         },
         "mode": "lines+markers",
         "name": "Mean",
         "showlegend": false,
         "type": "scatter",
         "x": [
          0.001,
          0.005,
          0.01,
          0.05,
          0.1,
          0.5,
          1,
          5,
          10,
          50,
          100,
          500,
          1000
         ],
         "xaxis": "x2",
         "y": [
          0.07347310366197707,
          0.07347310366197707,
          0.07347310366197707,
          0.07347310366197707,
          -0.25563825187762806,
          -0.7005568986381889,
          -0.8103581512320968,
          -0.9073543651504699,
          -0.9959368349508054,
          -0.7786955393265389,
          -0.823585851093767,
          -0.22249899777092258,
          -1.3892432861096538
         ],
         "yaxis": "y2"
        },
        {
         "line": {
          "color": "gray",
          "width": 2
         },
         "mode": "lines",
         "showlegend": false,
         "type": "scatter",
         "x": [
          0.001,
          0.001,
          0.001
         ],
         "xaxis": "x2",
         "y": [
          -0.4819372709450065,
          0.07347310366197707,
          1.3471492841791641
         ],
         "yaxis": "y2"
        },
        {
         "line": {
          "color": "gray",
          "width": 2
         },
         "mode": "lines",
         "showlegend": false,
         "type": "scatter",
         "x": [
          0.005,
          0.005,
          0.005
         ],
         "xaxis": "x2",
         "y": [
          -0.4819372709450065,
          0.07347310366197707,
          1.3471492841791641
         ],
         "yaxis": "y2"
        },
        {
         "line": {
          "color": "gray",
          "width": 2
         },
         "mode": "lines",
         "showlegend": false,
         "type": "scatter",
         "x": [
          0.01,
          0.01,
          0.01
         ],
         "xaxis": "x2",
         "y": [
          -0.4819372709450065,
          0.07347310366197707,
          1.3471492841791641
         ],
         "yaxis": "y2"
        },
        {
         "line": {
          "color": "gray",
          "width": 2
         },
         "mode": "lines",
         "showlegend": false,
         "type": "scatter",
         "x": [
          0.05,
          0.05,
          0.05
         ],
         "xaxis": "x2",
         "y": [
          -0.4819372709450065,
          0.07347310366197707,
          1.3471492841791641
         ],
         "yaxis": "y2"
        },
        {
         "line": {
          "color": "gray",
          "width": 2
         },
         "mode": "lines",
         "showlegend": false,
         "type": "scatter",
         "x": [
          0.1,
          0.1,
          0.1
         ],
         "xaxis": "x2",
         "y": [
          -1.457884514469961,
          -0.25563825187762806,
          0.8761667359903244
         ],
         "yaxis": "y2"
        },
        {
         "line": {
          "color": "gray",
          "width": 2
         },
         "mode": "lines",
         "showlegend": false,
         "type": "scatter",
         "x": [
          0.5,
          0.5,
          0.5
         ],
         "xaxis": "x2",
         "y": [
          -3.334008783028541,
          -0.7005568986381889,
          0.9567270357224926
         ],
         "yaxis": "y2"
        },
        {
         "line": {
          "color": "gray",
          "width": 2
         },
         "mode": "lines",
         "showlegend": false,
         "type": "scatter",
         "x": [
          1,
          1,
          1
         ],
         "xaxis": "x2",
         "y": [
          -4.364631566743933,
          -0.8103581512320968,
          1.3124490038179042
         ],
         "yaxis": "y2"
        },
        {
         "line": {
          "color": "gray",
          "width": 2
         },
         "mode": "lines",
         "showlegend": false,
         "type": "scatter",
         "x": [
          5,
          5,
          5
         ],
         "xaxis": "x2",
         "y": [
          -7.638730643675637,
          -0.9073543651504699,
          3.9115892391529625
         ],
         "yaxis": "y2"
        },
        {
         "line": {
          "color": "gray",
          "width": 2
         },
         "mode": "lines",
         "showlegend": false,
         "type": "scatter",
         "x": [
          10,
          10,
          10
         ],
         "xaxis": "x2",
         "y": [
          -10.321658328982386,
          -0.9959368349508054,
          6.202341155417839
         ],
         "yaxis": "y2"
        },
        {
         "line": {
          "color": "gray",
          "width": 2
         },
         "mode": "lines",
         "showlegend": false,
         "type": "scatter",
         "x": [
          50,
          50,
          50
         ],
         "xaxis": "x2",
         "y": [
          -19.492073676913826,
          -0.7786955393265389,
          17.277552418462335
         ],
         "yaxis": "y2"
        },
        {
         "line": {
          "color": "gray",
          "width": 2
         },
         "mode": "lines",
         "showlegend": false,
         "type": "scatter",
         "x": [
          100,
          100,
          100
         ],
         "xaxis": "x2",
         "y": [
          -26.333384984275533,
          -0.823585851093767,
          23.242849492835845
         ],
         "yaxis": "y2"
        },
        {
         "line": {
          "color": "gray",
          "width": 2
         },
         "mode": "lines",
         "showlegend": false,
         "type": "scatter",
         "x": [
          500,
          500,
          500
         ],
         "xaxis": "x2",
         "y": [
          -52.72526536559429,
          -0.22249899777092258,
          50.705103301428046
         ],
         "yaxis": "y2"
        },
        {
         "line": {
          "color": "gray",
          "width": 2
         },
         "mode": "lines",
         "showlegend": false,
         "type": "scatter",
         "x": [
          1000,
          1000,
          1000
         ],
         "xaxis": "x2",
         "y": [
          -75.8717977859442,
          -1.3892432861096538,
          67.82444009773258
         ],
         "yaxis": "y2"
        },
        {
         "marker": {
          "color": "green",
          "size": 8,
          "symbol": "circle"
         },
         "mode": "markers",
         "name": "10th Percentile",
         "type": "scatter",
         "x": [
          0.001,
          0.005,
          0.01,
          0.05,
          0.1,
          0.5,
          1,
          5,
          10,
          50,
          100,
          500,
          1000
         ],
         "xaxis": "x2",
         "y": [
          -0.4819372709450065,
          -0.4819372709450065,
          -0.4819372709450065,
          -0.4819372709450065,
          -1.457884514469961,
          -3.334008783028541,
          -4.364631566743933,
          -7.638730643675637,
          -10.321658328982386,
          -19.492073676913826,
          -26.333384984275533,
          -52.72526536559429,
          -75.8717977859442
         ],
         "yaxis": "y2"
        },
        {
         "marker": {
          "color": "red",
          "size": 8,
          "symbol": "circle"
         },
         "mode": "markers",
         "name": "90th Percentile",
         "type": "scatter",
         "x": [
          0.001,
          0.005,
          0.01,
          0.05,
          0.1,
          0.5,
          1,
          5,
          10,
          50,
          100,
          500,
          1000
         ],
         "xaxis": "x2",
         "y": [
          1.3471492841791641,
          1.3471492841791641,
          1.3471492841791641,
          1.3471492841791641,
          0.8761667359903244,
          0.9567270357224926,
          1.3124490038179042,
          3.9115892391529625,
          6.202341155417839,
          17.277552418462335,
          23.242849492835845,
          50.705103301428046,
          67.82444009773258
         ],
         "yaxis": "y2"
        }
       ],
       "layout": {
        "annotations": [
         {
          "font": {
           "size": 16
          },
          "showarrow": false,
          "text": "Markout Mean",
          "x": 0.225,
          "xanchor": "center",
          "xref": "paper",
          "y": 1,
          "yanchor": "bottom",
          "yref": "paper"
         },
         {
          "font": {
           "size": 16
          },
          "showarrow": false,
          "text": "Mean with Quantiles",
          "x": 0.775,
          "xanchor": "center",
          "xref": "paper",
          "y": 1,
          "yanchor": "bottom",
          "yref": "paper"
         }
        ],
        "height": 700,
        "hovermode": "x unified",
        "template": {
         "data": {
          "bar": [
           {
            "error_x": {
             "color": "#2a3f5f"
            },
            "error_y": {
             "color": "#2a3f5f"
            },
            "marker": {
             "line": {
              "color": "white",
              "width": 0.5
             },
             "pattern": {
              "fillmode": "overlay",
              "size": 10,
              "solidity": 0.2
             }
            },
            "type": "bar"
           }
          ],
          "barpolar": [
           {
            "marker": {
             "line": {
              "color": "white",
              "width": 0.5
             },
             "pattern": {
              "fillmode": "overlay",
              "size": 10,
              "solidity": 0.2
             }
            },
            "type": "barpolar"
           }
          ],
          "carpet": [
           {
            "aaxis": {
             "endlinecolor": "#2a3f5f",
             "gridcolor": "#C8D4E3",
             "linecolor": "#C8D4E3",
             "minorgridcolor": "#C8D4E3",
             "startlinecolor": "#2a3f5f"
            },
            "baxis": {
             "endlinecolor": "#2a3f5f",
             "gridcolor": "#C8D4E3",
             "linecolor": "#C8D4E3",
             "minorgridcolor": "#C8D4E3",
             "startlinecolor": "#2a3f5f"
            },
            "type": "carpet"
           }
          ],
          "choropleth": [
           {
            "colorbar": {
             "outlinewidth": 0,
             "ticks": ""
            },
            "type": "choropleth"
           }
          ],
          "contour": [
           {
            "colorbar": {
             "outlinewidth": 0,
             "ticks": ""
            },
            "colorscale": [
             [
              0,
              "#0d0887"
             ],
             [
              0.1111111111111111,
              "#46039f"
             ],
             [
              0.2222222222222222,
              "#7201a8"
             ],
             [
              0.3333333333333333,
              "#9c179e"
             ],
             [
              0.4444444444444444,
              "#bd3786"
             ],
             [
              0.5555555555555556,
              "#d8576b"
             ],
             [
              0.6666666666666666,
              "#ed7953"
             ],
             [
              0.7777777777777778,
              "#fb9f3a"
             ],
             [
              0.8888888888888888,
              "#fdca26"
             ],
             [
              1,
              "#f0f921"
             ]
            ],
            "type": "contour"
           }
          ],
          "contourcarpet": [
           {
            "colorbar": {
             "outlinewidth": 0,
             "ticks": ""
            },
            "type": "contourcarpet"
           }
          ],
          "heatmap": [
           {
            "colorbar": {
             "outlinewidth": 0,
             "ticks": ""
            },
            "colorscale": [
             [
              0,
              "#0d0887"
             ],
             [
              0.1111111111111111,
              "#46039f"
             ],
             [
              0.2222222222222222,
              "#7201a8"
             ],
             [
              0.3333333333333333,
              "#9c179e"
             ],
             [
              0.4444444444444444,
              "#bd3786"
             ],
             [
              0.5555555555555556,
              "#d8576b"
             ],
             [
              0.6666666666666666,
              "#ed7953"
             ],
             [
              0.7777777777777778,
              "#fb9f3a"
             ],
             [
              0.8888888888888888,
              "#fdca26"
             ],
             [
              1,
              "#f0f921"
             ]
            ],
            "type": "heatmap"
           }
          ],
          "heatmapgl": [
           {
            "colorbar": {
             "outlinewidth": 0,
             "ticks": ""
            },
            "colorscale": [
             [
              0,
              "#0d0887"
             ],
             [
              0.1111111111111111,
              "#46039f"
             ],
             [
              0.2222222222222222,
              "#7201a8"
             ],
             [
              0.3333333333333333,
              "#9c179e"
             ],
             [
              0.4444444444444444,
              "#bd3786"
             ],
             [
              0.5555555555555556,
              "#d8576b"
             ],
             [
              0.6666666666666666,
              "#ed7953"
             ],
             [
              0.7777777777777778,
              "#fb9f3a"
             ],
             [
              0.8888888888888888,
              "#fdca26"
             ],
             [
              1,
              "#f0f921"
             ]
            ],
            "type": "heatmapgl"
           }
          ],
          "histogram": [
           {
            "marker": {
             "pattern": {
              "fillmode": "overlay",
              "size": 10,
              "solidity": 0.2
             }
            },
            "type": "histogram"
           }
          ],
          "histogram2d": [
           {
            "colorbar": {
             "outlinewidth": 0,
             "ticks": ""
            },
            "colorscale": [
             [
              0,
              "#0d0887"
             ],
             [
              0.1111111111111111,
              "#46039f"
             ],
             [
              0.2222222222222222,
              "#7201a8"
             ],
             [
              0.3333333333333333,
              "#9c179e"
             ],
             [
              0.4444444444444444,
              "#bd3786"
             ],
             [
              0.5555555555555556,
              "#d8576b"
             ],
             [
              0.6666666666666666,
              "#ed7953"
             ],
             [
              0.7777777777777778,
              "#fb9f3a"
             ],
             [
              0.8888888888888888,
              "#fdca26"
             ],
             [
              1,
              "#f0f921"
             ]
            ],
            "type": "histogram2d"
           }
          ],
          "histogram2dcontour": [
           {
            "colorbar": {
             "outlinewidth": 0,
             "ticks": ""
            },
            "colorscale": [
             [
              0,
              "#0d0887"
             ],
             [
              0.1111111111111111,
              "#46039f"
             ],
             [
              0.2222222222222222,
              "#7201a8"
             ],
             [
              0.3333333333333333,
              "#9c179e"
             ],
             [
              0.4444444444444444,
              "#bd3786"
             ],
             [
              0.5555555555555556,
              "#d8576b"
             ],
             [
              0.6666666666666666,
              "#ed7953"
             ],
             [
              0.7777777777777778,
              "#fb9f3a"
             ],
             [
              0.8888888888888888,
              "#fdca26"
             ],
             [
              1,
              "#f0f921"
             ]
            ],
            "type": "histogram2dcontour"
           }
          ],
          "mesh3d": [
           {
            "colorbar": {
             "outlinewidth": 0,
             "ticks": ""
            },
            "type": "mesh3d"
           }
          ],
          "parcoords": [
           {
            "line": {
             "colorbar": {
              "outlinewidth": 0,
              "ticks": ""
             }
            },
            "type": "parcoords"
           }
          ],
          "pie": [
           {
            "automargin": true,
            "type": "pie"
           }
          ],
          "scatter": [
           {
            "fillpattern": {
             "fillmode": "overlay",
             "size": 10,
             "solidity": 0.2
            },
            "type": "scatter"
           }
          ],
          "scatter3d": [
           {
            "line": {
             "colorbar": {
              "outlinewidth": 0,
              "ticks": ""
             }
            },
            "marker": {
             "colorbar": {
              "outlinewidth": 0,
              "ticks": ""
             }
            },
            "type": "scatter3d"
           }
          ],
          "scattercarpet": [
           {
            "marker": {
             "colorbar": {
              "outlinewidth": 0,
              "ticks": ""
             }
            },
            "type": "scattercarpet"
           }
          ],
          "scattergeo": [
           {
            "marker": {
             "colorbar": {
              "outlinewidth": 0,
              "ticks": ""
             }
            },
            "type": "scattergeo"
           }
          ],
          "scattergl": [
           {
            "marker": {
             "colorbar": {
              "outlinewidth": 0,
              "ticks": ""
             }
            },
            "type": "scattergl"
           }
          ],
          "scattermapbox": [
           {
            "marker": {
             "colorbar": {
              "outlinewidth": 0,
              "ticks": ""
             }
            },
            "type": "scattermapbox"
           }
          ],
          "scatterpolar": [
           {
            "marker": {
             "colorbar": {
              "outlinewidth": 0,
              "ticks": ""
             }
            },
            "type": "scatterpolar"
           }
          ],
          "scatterpolargl": [
           {
            "marker": {
             "colorbar": {
              "outlinewidth": 0,
              "ticks": ""
             }
            },
            "type": "scatterpolargl"
           }
          ],
          "scatterternary": [
           {
            "marker": {
             "colorbar": {
              "outlinewidth": 0,
              "ticks": ""
             }
            },
            "type": "scatterternary"
           }
          ],
          "surface": [
           {
            "colorbar": {
             "outlinewidth": 0,
             "ticks": ""
            },
            "colorscale": [
             [
              0,
              "#0d0887"
             ],
             [
              0.1111111111111111,
              "#46039f"
             ],
             [
              0.2222222222222222,
              "#7201a8"
             ],
             [
              0.3333333333333333,
              "#9c179e"
             ],
             [
              0.4444444444444444,
              "#bd3786"
             ],
             [
              0.5555555555555556,
              "#d8576b"
             ],
             [
              0.6666666666666666,
              "#ed7953"
             ],
             [
              0.7777777777777778,
              "#fb9f3a"
             ],
             [
              0.8888888888888888,
              "#fdca26"
             ],
             [
              1,
              "#f0f921"
             ]
            ],
            "type": "surface"
           }
          ],
          "table": [
           {
            "cells": {
             "fill": {
              "color": "#EBF0F8"
             },
             "line": {
              "color": "white"
             }
            },
            "header": {
             "fill": {
              "color": "#C8D4E3"
             },
             "line": {
              "color": "white"
             }
            },
            "type": "table"
           }
          ]
         },
         "layout": {
          "annotationdefaults": {
           "arrowcolor": "#2a3f5f",
           "arrowhead": 0,
           "arrowwidth": 1
          },
          "autotypenumbers": "strict",
          "coloraxis": {
           "colorbar": {
            "outlinewidth": 0,
            "ticks": ""
           }
          },
          "colorscale": {
           "diverging": [
            [
             0,
             "#8e0152"
            ],
            [
             0.1,
             "#c51b7d"
            ],
            [
             0.2,
             "#de77ae"
            ],
            [
             0.3,
             "#f1b6da"
            ],
            [
             0.4,
             "#fde0ef"
            ],
            [
             0.5,
             "#f7f7f7"
            ],
            [
             0.6,
             "#e6f5d0"
            ],
            [
             0.7,
             "#b8e186"
            ],
            [
             0.8,
             "#7fbc41"
            ],
            [
             0.9,
             "#4d9221"
            ],
            [
             1,
             "#276419"
            ]
           ],
           "sequential": [
            [
             0,
             "#0d0887"
            ],
            [
             0.1111111111111111,
             "#46039f"
            ],
            [
             0.2222222222222222,
             "#7201a8"
            ],
            [
             0.3333333333333333,
             "#9c179e"
            ],
            [
             0.4444444444444444,
             "#bd3786"
            ],
            [
             0.5555555555555556,
             "#d8576b"
            ],
            [
             0.6666666666666666,
             "#ed7953"
            ],
            [
             0.7777777777777778,
             "#fb9f3a"
            ],
            [
             0.8888888888888888,
             "#fdca26"
            ],
            [
             1,
             "#f0f921"
            ]
           ],
           "sequentialminus": [
            [
             0,
             "#0d0887"
            ],
            [
             0.1111111111111111,
             "#46039f"
            ],
            [
             0.2222222222222222,
             "#7201a8"
            ],
            [
             0.3333333333333333,
             "#9c179e"
            ],
            [
             0.4444444444444444,
             "#bd3786"
            ],
            [
             0.5555555555555556,
             "#d8576b"
            ],
            [
             0.6666666666666666,
             "#ed7953"
            ],
            [
             0.7777777777777778,
             "#fb9f3a"
            ],
            [
             0.8888888888888888,
             "#fdca26"
            ],
            [
             1,
             "#f0f921"
            ]
           ]
          },
          "colorway": [
           "#636efa",
           "#EF553B",
           "#00cc96",
           "#ab63fa",
           "#FFA15A",
           "#19d3f3",
           "#FF6692",
           "#B6E880",
           "#FF97FF",
           "#FECB52"
          ],
          "font": {
           "color": "#2a3f5f"
          },
          "geo": {
           "bgcolor": "white",
           "lakecolor": "white",
           "landcolor": "white",
           "showlakes": true,
           "showland": true,
           "subunitcolor": "#C8D4E3"
          },
          "hoverlabel": {
           "align": "left"
          },
          "hovermode": "closest",
          "mapbox": {
           "style": "light"
          },
          "paper_bgcolor": "white",
          "plot_bgcolor": "white",
          "polar": {
           "angularaxis": {
            "gridcolor": "#EBF0F8",
            "linecolor": "#EBF0F8",
            "ticks": ""
           },
           "bgcolor": "white",
           "radialaxis": {
            "gridcolor": "#EBF0F8",
            "linecolor": "#EBF0F8",
            "ticks": ""
           }
          },
          "scene": {
           "xaxis": {
            "backgroundcolor": "white",
            "gridcolor": "#DFE8F3",
            "gridwidth": 2,
            "linecolor": "#EBF0F8",
            "showbackground": true,
            "ticks": "",
            "zerolinecolor": "#EBF0F8"
           },
           "yaxis": {
            "backgroundcolor": "white",
            "gridcolor": "#DFE8F3",
            "gridwidth": 2,
            "linecolor": "#EBF0F8",
            "showbackground": true,
            "ticks": "",
            "zerolinecolor": "#EBF0F8"
           },
           "zaxis": {
            "backgroundcolor": "white",
            "gridcolor": "#DFE8F3",
            "gridwidth": 2,
            "linecolor": "#EBF0F8",
            "showbackground": true,
            "ticks": "",
            "zerolinecolor": "#EBF0F8"
           }
          },
          "shapedefaults": {
           "line": {
            "color": "#2a3f5f"
           }
          },
          "ternary": {
           "aaxis": {
            "gridcolor": "#DFE8F3",
            "linecolor": "#A2B1C6",
            "ticks": ""
           },
           "baxis": {
            "gridcolor": "#DFE8F3",
            "linecolor": "#A2B1C6",
            "ticks": ""
           },
           "bgcolor": "white",
           "caxis": {
            "gridcolor": "#DFE8F3",
            "linecolor": "#A2B1C6",
            "ticks": ""
           }
          },
          "title": {
           "x": 0.05
          },
          "xaxis": {
           "automargin": true,
           "gridcolor": "#EBF0F8",
           "linecolor": "#EBF0F8",
           "ticks": "",
           "title": {
            "standoff": 15
           },
           "zerolinecolor": "#EBF0F8",
           "zerolinewidth": 2
          },
          "yaxis": {
           "automargin": true,
           "gridcolor": "#EBF0F8",
           "linecolor": "#EBF0F8",
           "ticks": "",
           "title": {
            "standoff": 15
           },
           "zerolinecolor": "#EBF0F8",
           "zerolinewidth": 2
          }
         }
        },
        "title": {
         "text": "Markout Data: Mean and Quantiles"
        },
        "width": 2000,
        "xaxis": {
         "anchor": "y",
         "autorange": true,
         "domain": [
          0,
          0.45
         ],
         "range": [
          -3.3813997418833854,
          3.3813997418833854
         ],
         "ticktext": [
          "1ms",
          "5ms",
          "10ms",
          "50ms",
          "100ms",
          "500ms",
          "1s",
          "5s",
          "10s",
          "50s",
          "100s",
          "500s",
          "1000s"
         ],
         "tickvals": [
          0.001,
          0.005,
          0.01,
          0.05,
          0.1,
          0.5,
          1,
          5,
          10,
          50,
          100,
          500,
          1000
         ],
         "title": {
          "text": "Time Interval"
         },
         "type": "log"
        },
        "xaxis2": {
         "anchor": "y2",
         "autorange": true,
         "domain": [
          0.55,
          1
         ],
         "range": [
          -3.3813997418833854,
          3.3813997418833854
         ],
         "ticktext": [
          "1ms",
          "5ms",
          "10ms",
          "50ms",
          "100ms",
          "500ms",
          "1s",
          "5s",
          "10s",
          "50s",
          "100s",
          "500s",
          "1000s"
         ],
         "tickvals": [
          0.001,
          0.005,
          0.01,
          0.05,
          0.1,
          0.5,
          1,
          5,
          10,
          50,
          100,
          500,
          1000
         ],
         "title": {
          "text": "Time Interval"
         },
         "type": "log"
        },
        "yaxis": {
         "anchor": "x",
         "autorange": true,
         "domain": [
          0,
          1
         ],
         "range": [
          -1.4882481072514018,
          0.17247792480372504
         ],
         "title": {
          "text": "Mean Values"
         },
         "type": "linear"
        },
        "yaxis2": {
         "anchor": "x2",
         "autorange": true,
         "domain": [
          0,
          1
         ],
         "range": [
          -85.59796235885682,
          77.5506046706452
         ],
         "title": {
          "text": "Values"
         },
         "type": "linear"
        }
       }
      },
      "image/png": "[encoded data removed]",
      "text/html": [
       "<div>                            <div id=\"d2de065f-3857-4c0a-bd42-24e036d97032\" class=\"plotly-graph-div\" style=\"height:700px; width:2000px;\"></div>            <script type=\"text/javascript\">                require([\"plotly\"], function(Plotly) {                    window.PLOTLYENV=window.PLOTLYENV || {};                                    if (document.getElementById(\"d2de065f-3857-4c0a-bd42-24e036d97032\")) {                    Plotly.newPlot(                        \"d2de065f-3857-4c0a-bd42-24e036d97032\",                        [{\"line\":{\"color\":\"blue\",\"width\":2},\"marker\":{\"size\":8,\"symbol\":\"circle\"},\"mode\":\"lines+markers\",\"name\":\"Mean\",\"x\":[0.001,0.005,0.01,0.05,0.1,0.5,1,5,10,50,100,500,1000],\"y\":[0.07347310366197707,0.07347310366197707,0.07347310366197707,0.07347310366197707,-0.25563825187762806,-0.7005568986381889,-0.8103581512320968,-0.9073543651504699,-0.9959368349508054,-0.7786955393265389,-0.823585851093767,-0.22249899777092258,-1.3892432861096538],\"type\":\"scatter\",\"xaxis\":\"x\",\"yaxis\":\"y\"},{\"line\":{\"color\":\"blue\",\"width\":2},\"marker\":{\"size\":8,\"symbol\":\"circle\"},\"mode\":\"lines+markers\",\"name\":\"Mean\",\"showlegend\":false,\"x\":[0.001,0.005,0.01,0.05,0.1,0.5,1,5,10,50,100,500,1000],\"y\":[0.07347310366197707,0.07347310366197707,0.07347310366197707,0.07347310366197707,-0.25563825187762806,-0.7005568986381889,-0.8103581512320968,-0.9073543651504699,-0.9959368349508054,-0.7786955393265389,-0.823585851093767,-0.22249899777092258,-1.3892432861096538],\"type\":\"scatter\",\"xaxis\":\"x2\",\"yaxis\":\"y2\"},{\"line\":{\"color\":\"gray\",\"width\":2},\"mode\":\"lines\",\"showlegend\":false,\"x\":[0.001,0.001,0.001],\"y\":[-0.4819372709450065,0.07347310366197707,1.3471492841791641],\"type\":\"scatter\",\"xaxis\":\"x2\",\"yaxis\":\"y2\"},{\"line\":{\"color\":\"gray\",\"width\":2},\"mode\":\"lines\",\"showlegend\":false,\"x\":[0.005,0.005,0.005],\"y\":[-0.4819372709450065,0.07347310366197707,1.3471492841791641],\"type\":\"scatter\",\"xaxis\":\"x2\",\"yaxis\":\"y2\"},{\"line\":{\"color\":\"gray\",\"width\":2},\"mode\":\"lines\",\"showlegend\":false,\"x\":[0.01,0.01,0.01],\"y\":[-0.4819372709450065,0.07347310366197707,1.3471492841791641],\"type\":\"scatter\",\"xaxis\":\"x2\",\"yaxis\":\"y2\"},{\"line\":{\"color\":\"gray\",\"width\":2},\"mode\":\"lines\",\"showlegend\":false,\"x\":[0.05,0.05,0.05],\"y\":[-0.4819372709450065,0.07347310366197707,1.3471492841791641],\"type\":\"scatter\",\"xaxis\":\"x2\",\"yaxis\":\"y2\"},{\"line\":{\"color\":\"gray\",\"width\":2},\"mode\":\"lines\",\"showlegend\":false,\"x\":[0.1,0.1,0.1],\"y\":[-1.457884514469961,-0.25563825187762806,0.8761667359903244],\"type\":\"scatter\",\"xaxis\":\"x2\",\"yaxis\":\"y2\"},{\"line\":{\"color\":\"gray\",\"width\":2},\"mode\":\"lines\",\"showlegend\":false,\"x\":[0.5,0.5,0.5],\"y\":[-3.334008783028541,-0.7005568986381889,0.9567270357224926],\"type\":\"scatter\",\"xaxis\":\"x2\",\"yaxis\":\"y2\"},{\"line\":{\"color\":\"gray\",\"width\":2},\"mode\":\"lines\",\"showlegend\":false,\"x\":[1,1,1],\"y\":[-4.364631566743933,-0.8103581512320968,1.3124490038179042],\"type\":\"scatter\",\"xaxis\":\"x2\",\"yaxis\":\"y2\"},{\"line\":{\"color\":\"gray\",\"width\":2},\"mode\":\"lines\",\"showlegend\":false,\"x\":[5,5,5],\"y\":[-7.638730643675637,-0.9073543651504699,3.9115892391529625],\"type\":\"scatter\",\"xaxis\":\"x2\",\"yaxis\":\"y2\"},{\"line\":{\"color\":\"gray\",\"width\":2},\"mode\":\"lines\",\"showlegend\":false,\"x\":[10,10,10],\"y\":[-10.321658328982386,-0.9959368349508054,6.202341155417839],\"type\":\"scatter\",\"xaxis\":\"x2\",\"yaxis\":\"y2\"},{\"line\":{\"color\":\"gray\",\"width\":2},\"mode\":\"lines\",\"showlegend\":false,\"x\":[50,50,50],\"y\":[-19.492073676913826,-0.7786955393265389,17.277552418462335],\"type\":\"scatter\",\"xaxis\":\"x2\",\"yaxis\":\"y2\"},{\"line\":{\"color\":\"gray\",\"width\":2},\"mode\":\"lines\",\"showlegend\":false,\"x\":[100,100,100],\"y\":[-26.333384984275533,-0.823585851093767,23.242849492835845],\"type\":\"scatter\",\"xaxis\":\"x2\",\"yaxis\":\"y2\"},{\"line\":{\"color\":\"gray\",\"width\":2},\"mode\":\"lines\",\"showlegend\":false,\"x\":[500,500,500],\"y\":[-52.72526536559429,-0.22249899777092258,50.705103301428046],\"type\":\"scatter\",\"xaxis\":\"x2\",\"yaxis\":\"y2\"},{\"line\":{\"color\":\"gray\",\"width\":2},\"mode\":\"lines\",\"showlegend\":false,\"x\":[1000,1000,1000],\"y\":[-75.8717977859442,-1.3892432861096538,67.82444009773258],\"type\":\"scatter\",\"xaxis\":\"x2\",\"yaxis\":\"y2\"},{\"marker\":{\"color\":\"green\",\"size\":8,\"symbol\":\"circle\"},\"mode\":\"markers\",\"name\":\"10th Percentile\",\"x\":[0.001,0.005,0.01,0.05,0.1,0.5,1,5,10,50,100,500,1000],\"y\":[-0.4819372709450065,-0.4819372709450065,-0.4819372709450065,-0.4819372709450065,-1.457884514469961,-3.334008783028541,-4.364631566743933,-7.638730643675637,-10.321658328982386,-19.492073676913826,-26.333384984275533,-52.72526536559429,-75.8717977859442],\"type\":\"scatter\",\"xaxis\":\"x2\",\"yaxis\":\"y2\"},{\"marker\":{\"color\":\"red\",\"size\":8,\"symbol\":\"circle\"},\"mode\":\"markers\",\"name\":\"90th Percentile\",\"x\":[0.001,0.005,0.01,0.05,0.1,0.5,1,5,10,50,100,500,1000],\"y\":[1.3471492841791641,1.3471492841791641,1.3471492841791641,1.3471492841791641,0.8761667359903244,0.9567270357224926,1.3124490038179042,3.9115892391529625,6.202341155417839,17.277552418462335,23.242849492835845,50.705103301428046,67.82444009773258],\"type\":\"scatter\",\"xaxis\":\"x2\",\"yaxis\":\"y2\"}],                        {\"template\":{\"data\":{\"barpolar\":[{\"marker\":{\"line\":{\"color\":\"white\",\"width\":0.5},\"pattern\":{\"fillmode\":\"overlay\",\"size\":10,\"solidity\":0.2}},\"type\":\"barpolar\"}],\"bar\":[{\"error_x\":{\"color\":\"#2a3f5f\"},\"error_y\":{\"color\":\"#2a3f5f\"},\"marker\":{\"line\":{\"color\":\"white\",\"width\":0.5},\"pattern\":{\"fillmode\":\"overlay\",\"size\":10,\"solidity\":0.2}},\"type\":\"bar\"}],\"carpet\":[{\"aaxis\":{\"endlinecolor\":\"#2a3f5f\",\"gridcolor\":\"#C8D4E3\",\"linecolor\":\"#C8D4E3\",\"minorgridcolor\":\"#C8D4E3\",\"startlinecolor\":\"#2a3f5f\"},\"baxis\":{\"endlinecolor\":\"#2a3f5f\",\"gridcolor\":\"#C8D4E3\",\"linecolor\":\"#C8D4E3\",\"minorgridcolor\":\"#C8D4E3\",\"startlinecolor\":\"#2a3f5f\"},\"type\":\"carpet\"}],\"choropleth\":[{\"colorbar\":{\"outlinewidth\":0,\"ticks\":\"\"},\"type\":\"choropleth\"}],\"contourcarpet\":[{\"colorbar\":{\"outlinewidth\":0,\"ticks\":\"\"},\"type\":\"contourcarpet\"}],\"contour\":[{\"colorbar\":{\"outlinewidth\":0,\"ticks\":\"\"},\"colorscale\":[[0.0,\"#0d0887\"],[0.1111111111111111,\"#46039f\"],[0.2222222222222222,\"#7201a8\"],[0.3333333333333333,\"#9c179e\"],[0.4444444444444444,\"#bd3786\"],[0.5555555555555556,\"#d8576b\"],[0.6666666666666666,\"#ed7953\"],[0.7777777777777778,\"#fb9f3a\"],[0.8888888888888888,\"#fdca26\"],[1.0,\"#f0f921\"]],\"type\":\"contour\"}],\"heatmapgl\":[{\"colorbar\":{\"outlinewidth\":0,\"ticks\":\"\"},\"colorscale\":[[0.0,\"#0d0887\"],[0.1111111111111111,\"#46039f\"],[0.2222222222222222,\"#7201a8\"],[0.3333333333333333,\"#9c179e\"],[0.4444444444444444,\"#bd3786\"],[0.5555555555555556,\"#d8576b\"],[0.6666666666666666,\"#ed7953\"],[0.7777777777777778,\"#fb9f3a\"],[0.8888888888888888,\"#fdca26\"],[1.0,\"#f0f921\"]],\"type\":\"heatmapgl\"}],\"heatmap\":[{\"colorbar\":{\"outlinewidth\":0,\"ticks\":\"\"},\"colorscale\":[[0.0,\"#0d0887\"],[0.1111111111111111,\"#46039f\"],[0.2222222222222222,\"#7201a8\"],[0.3333333333333333,\"#9c179e\"],[0.4444444444444444,\"#bd3786\"],[0.5555555555555556,\"#d8576b\"],[0.6666666666666666,\"#ed7953\"],[0.7777777777777778,\"#fb9f3a\"],[0.8888888888888888,\"#fdca26\"],[1.0,\"#f0f921\"]],\"type\":\"heatmap\"}],\"histogram2dcontour\":[{\"colorbar\":{\"outlinewidth\":0,\"ticks\":\"\"},\"colorscale\":[[0.0,\"#0d0887\"],[0.1111111111111111,\"#46039f\"],[0.2222222222222222,\"#7201a8\"],[0.3333333333333333,\"#9c179e\"],[0.4444444444444444,\"#bd3786\"],[0.5555555555555556,\"#d8576b\"],[0.6666666666666666,\"#ed7953\"],[0.7777777777777778,\"#fb9f3a\"],[0.8888888888888888,\"#fdca26\"],[1.0,\"#f0f921\"]],\"type\":\"histogram2dcontour\"}],\"histogram2d\":[{\"colorbar\":{\"outlinewidth\":0,\"ticks\":\"\"},\"colorscale\":[[0.0,\"#0d0887\"],[0.1111111111111111,\"#46039f\"],[0.2222222222222222,\"#7201a8\"],[0.3333333333333333,\"#9c179e\"],[0.4444444444444444,\"#bd3786\"],[0.5555555555555556,\"#d8576b\"],[0.6666666666666666,\"#ed7953\"],[0.7777777777777778,\"#fb9f3a\"],[0.8888888888888888,\"#fdca26\"],[1.0,\"#f0f921\"]],\"type\":\"histogram2d\"}],\"histogram\":[{\"marker\":{\"pattern\":{\"fillmode\":\"overlay\",\"size\":10,\"solidity\":0.2}},\"type\":\"histogram\"}],\"mesh3d\":[{\"colorbar\":{\"outlinewidth\":0,\"ticks\":\"\"},\"type\":\"mesh3d\"}],\"parcoords\":[{\"line\":{\"colorbar\":{\"outlinewidth\":0,\"ticks\":\"\"}},\"type\":\"parcoords\"}],\"pie\":[{\"automargin\":true,\"type\":\"pie\"}],\"scatter3d\":[{\"line\":{\"colorbar\":{\"outlinewidth\":0,\"ticks\":\"\"}},\"marker\":{\"colorbar\":{\"outlinewidth\":0,\"ticks\":\"\"}},\"type\":\"scatter3d\"}],\"scattercarpet\":[{\"marker\":{\"colorbar\":{\"outlinewidth\":0,\"ticks\":\"\"}},\"type\":\"scattercarpet\"}],\"scattergeo\":[{\"marker\":{\"colorbar\":{\"outlinewidth\":0,\"ticks\":\"\"}},\"type\":\"scattergeo\"}],\"scattergl\":[{\"marker\":{\"colorbar\":{\"outlinewidth\":0,\"ticks\":\"\"}},\"type\":\"scattergl\"}],\"scattermapbox\":[{\"marker\":{\"colorbar\":{\"outlinewidth\":0,\"ticks\":\"\"}},\"type\":\"scattermapbox\"}],\"scatterpolargl\":[{\"marker\":{\"colorbar\":{\"outlinewidth\":0,\"ticks\":\"\"}},\"type\":\"scatterpolargl\"}],\"scatterpolar\":[{\"marker\":{\"colorbar\":{\"outlinewidth\":0,\"ticks\":\"\"}},\"type\":\"scatterpolar\"}],\"scatter\":[{\"fillpattern\":{\"fillmode\":\"overlay\",\"size\":10,\"solidity\":0.2},\"type\":\"scatter\"}],\"scatterternary\":[{\"marker\":{\"colorbar\":{\"outlinewidth\":0,\"ticks\":\"\"}},\"type\":\"scatterternary\"}],\"surface\":[{\"colorbar\":{\"outlinewidth\":0,\"ticks\":\"\"},\"colorscale\":[[0.0,\"#0d0887\"],[0.1111111111111111,\"#46039f\"],[0.2222222222222222,\"#7201a8\"],[0.3333333333333333,\"#9c179e\"],[0.4444444444444444,\"#bd3786\"],[0.5555555555555556,\"#d8576b\"],[0.6666666666666666,\"#ed7953\"],[0.7777777777777778,\"#fb9f3a\"],[0.8888888888888888,\"#fdca26\"],[1.0,\"#f0f921\"]],\"type\":\"surface\"}],\"table\":[{\"cells\":{\"fill\":{\"color\":\"#EBF0F8\"},\"line\":{\"color\":\"white\"}},\"header\":{\"fill\":{\"color\":\"#C8D4E3\"},\"line\":{\"color\":\"white\"}},\"type\":\"table\"}]},\"layout\":{\"annotationdefaults\":{\"arrowcolor\":\"#2a3f5f\",\"arrowhead\":0,\"arrowwidth\":1},\"autotypenumbers\":\"strict\",\"coloraxis\":{\"colorbar\":{\"outlinewidth\":0,\"ticks\":\"\"}},\"colorscale\":{\"diverging\":[[0,\"#8e0152\"],[0.1,\"#c51b7d\"],[0.2,\"#de77ae\"],[0.3,\"#f1b6da\"],[0.4,\"#fde0ef\"],[0.5,\"#f7f7f7\"],[0.6,\"#e6f5d0\"],[0.7,\"#b8e186\"],[0.8,\"#7fbc41\"],[0.9,\"#4d9221\"],[1,\"#276419\"]],\"sequential\":[[0.0,\"#0d0887\"],[0.1111111111111111,\"#46039f\"],[0.2222222222222222,\"#7201a8\"],[0.3333333333333333,\"#9c179e\"],[0.4444444444444444,\"#bd3786\"],[0.5555555555555556,\"#d8576b\"],[0.6666666666666666,\"#ed7953\"],[0.7777777777777778,\"#fb9f3a\"],[0.8888888888888888,\"#fdca26\"],[1.0,\"#f0f921\"]],\"sequentialminus\":[[0.0,\"#0d0887\"],[0.1111111111111111,\"#46039f\"],[0.2222222222222222,\"#7201a8\"],[0.3333333333333333,\"#9c179e\"],[0.4444444444444444,\"#bd3786\"],[0.5555555555555556,\"#d8576b\"],[0.6666666666666666,\"#ed7953\"],[0.7777777777777778,\"#fb9f3a\"],[0.8888888888888888,\"#fdca26\"],[1.0,\"#f0f921\"]]},\"colorway\":[\"#636efa\",\"#EF553B\",\"#00cc96\",\"#ab63fa\",\"#FFA15A\",\"#19d3f3\",\"#FF6692\",\"#B6E880\",\"#FF97FF\",\"#FECB52\"],\"font\":{\"color\":\"#2a3f5f\"},\"geo\":{\"bgcolor\":\"white\",\"lakecolor\":\"white\",\"landcolor\":\"white\",\"showlakes\":true,\"showland\":true,\"subunitcolor\":\"#C8D4E3\"},\"hoverlabel\":{\"align\":\"left\"},\"hovermode\":\"closest\",\"mapbox\":{\"style\":\"light\"},\"paper_bgcolor\":\"white\",\"plot_bgcolor\":\"white\",\"polar\":{\"angularaxis\":{\"gridcolor\":\"#EBF0F8\",\"linecolor\":\"#EBF0F8\",\"ticks\":\"\"},\"bgcolor\":\"white\",\"radialaxis\":{\"gridcolor\":\"#EBF0F8\",\"linecolor\":\"#EBF0F8\",\"ticks\":\"\"}},\"scene\":{\"xaxis\":{\"backgroundcolor\":\"white\",\"gridcolor\":\"#DFE8F3\",\"gridwidth\":2,\"linecolor\":\"#EBF0F8\",\"showbackground\":true,\"ticks\":\"\",\"zerolinecolor\":\"#EBF0F8\"},\"yaxis\":{\"backgroundcolor\":\"white\",\"gridcolor\":\"#DFE8F3\",\"gridwidth\":2,\"linecolor\":\"#EBF0F8\",\"showbackground\":true,\"ticks\":\"\",\"zerolinecolor\":\"#EBF0F8\"},\"zaxis\":{\"backgroundcolor\":\"white\",\"gridcolor\":\"#DFE8F3\",\"gridwidth\":2,\"linecolor\":\"#EBF0F8\",\"showbackground\":true,\"ticks\":\"\",\"zerolinecolor\":\"#EBF0F8\"}},\"shapedefaults\":{\"line\":{\"color\":\"#2a3f5f\"}},\"ternary\":{\"aaxis\":{\"gridcolor\":\"#DFE8F3\",\"linecolor\":\"#A2B1C6\",\"ticks\":\"\"},\"baxis\":{\"gridcolor\":\"#DFE8F3\",\"linecolor\":\"#A2B1C6\",\"ticks\":\"\"},\"bgcolor\":\"white\",\"caxis\":{\"gridcolor\":\"#DFE8F3\",\"linecolor\":\"#A2B1C6\",\"ticks\":\"\"}},\"title\":{\"x\":0.05},\"xaxis\":{\"automargin\":true,\"gridcolor\":\"#EBF0F8\",\"linecolor\":\"#EBF0F8\",\"ticks\":\"\",\"title\":{\"standoff\":15},\"zerolinecolor\":\"#EBF0F8\",\"zerolinewidth\":2},\"yaxis\":{\"automargin\":true,\"gridcolor\":\"#EBF0F8\",\"linecolor\":\"#EBF0F8\",\"ticks\":\"\",\"title\":{\"standoff\":15},\"zerolinecolor\":\"#EBF0F8\",\"zerolinewidth\":2}}},\"xaxis\":{\"anchor\":\"y\",\"domain\":[0.0,0.45],\"title\":{\"text\":\"Time Interval\"},\"type\":\"log\",\"tickvals\":[0.001,0.005,0.01,0.05,0.1,0.5,1,5,10,50,100,500,1000],\"ticktext\":[\"1ms\",\"5ms\",\"10ms\",\"50ms\",\"100ms\",\"500ms\",\"1s\",\"5s\",\"10s\",\"50s\",\"100s\",\"500s\",\"1000s\"]},\"yaxis\":{\"anchor\":\"x\",\"domain\":[0.0,1.0],\"title\":{\"text\":\"Mean Values\"}},\"xaxis2\":{\"anchor\":\"y2\",\"domain\":[0.55,1.0],\"title\":{\"text\":\"Time Interval\"},\"type\":\"log\",\"tickvals\":[0.001,0.005,0.01,0.05,0.1,0.5,1,5,10,50,100,500,1000],\"ticktext\":[\"1ms\",\"5ms\",\"10ms\",\"50ms\",\"100ms\",\"500ms\",\"1s\",\"5s\",\"10s\",\"50s\",\"100s\",\"500s\",\"1000s\"]},\"yaxis2\":{\"anchor\":\"x2\",\"domain\":[0.0,1.0],\"title\":{\"text\":\"Values\"}},\"annotations\":[{\"font\":{\"size\":16},\"showarrow\":false,\"text\":\"Markout Mean\",\"x\":0.225,\"xanchor\":\"center\",\"xref\":\"paper\",\"y\":1.0,\"yanchor\":\"bottom\",\"yref\":\"paper\"},{\"font\":{\"size\":16},\"showarrow\":false,\"text\":\"Mean with Quantiles\",\"x\":0.775,\"xanchor\":\"center\",\"xref\":\"paper\",\"y\":1.0,\"yanchor\":\"bottom\",\"yref\":\"paper\"}],\"title\":{\"text\":\"Markout Data: Mean and Quantiles\"},\"hovermode\":\"x unified\",\"width\":2000,\"height\":700},                        {\"responsive\": true}                    ).then(function(){\n",
       "                            \n",
       "var gd = document.getElementById('d2de065f-3857-4c0a-bd42-24e036d97032');\n",
       "var x = new MutationObserver(function (mutations, observer) {{\n",
       "        var display = window.getComputedStyle(gd).display;\n",
       "        if (!display || display === 'none') {{\n",
       "            console.log([gd, 'removed!']);\n",
       "            Plotly.purge(gd);\n",
       "            observer.disconnect();\n",
       "        }}\n",
       "}});\n",
       "\n",
       "// Listen for the removal of the full notebook cells\n",
       "var notebookContainer = gd.closest('#notebook-container');\n",
       "if (notebookContainer) {{\n",
       "    x.observe(notebookContainer, {childList: true});\n",
       "}}\n",
       "\n",
       "// Listen for the clearing of the current output cell\n",
       "var outputEl = gd.closest('.output');\n",
       "if (outputEl) {{\n",
       "    x.observe(outputEl, {childList: true});\n",
       "}}\n",
       "\n",
       "                        })                };                });            </script>        </div>"
      ]
     },
     "metadata": {},
     "output_type": "display_data"
    }
   ],
   "source": [
    "# Meta Setting\n",
    "test = BacktestEngine(sep10_trades, sep10_ob)  # BacktestEngine(trades_bnc, order_book_bnc_25)\n",
    "test.update_strat_config(update_tol = 1.0, order_qty = 1.0, min_margin = 1.0)\n",
    "test.update_env_variables(default_latency = 5, latency_type = 'fixed', rebates = 0.5)\n",
    "test.update_sample_filter(latency_range = (0, 10), tail_sample_truncate = 1000)\n",
    "\n",
    "# Run the Backtest\n",
    "test.run_backtest()\n",
    "\n",
    "# Show the markout plot\n",
    "test.plot()"
   ]
  },
  {
   "cell_type": "code",
   "execution_count": 581,
   "id": "ac2ebd65-c125-4345-99e2-d164f38fc081",
   "metadata": {
    "tags": []
   },
   "outputs": [
    {
     "data": {
      "text/html": [
       "<div><style>\n",
       ".dataframe > thead > tr,\n",
       ".dataframe > tbody > tr {\n",
       "  text-align: right;\n",
       "  white-space: pre-wrap;\n",
       "}\n",
       "</style>\n",
       "<small>shape: (1, 4)</small><table border=\"1\" class=\"dataframe\"><thead><tr><th>bid_filled_volume</th><th>ask_filled_volume</th><th>bid_fill_rate</th><th>ask_fill_rate</th></tr><tr><td>f64</td><td>f64</td><td>f64</td><td>f64</td></tr></thead><tbody><tr><td>3351.06</td><td>3308.328</td><td>0.177361</td><td>0.175099</td></tr></tbody></table></div>"
      ],
      "text/plain": [
       "shape: (1, 4)\n",
       "┌───────────────────┬───────────────────┬───────────────┬───────────────┐\n",
       "│ bid_filled_volume ┆ ask_filled_volume ┆ bid_fill_rate ┆ ask_fill_rate │\n",
       "│ ---               ┆ ---               ┆ ---           ┆ ---           │\n",
       "│ f64               ┆ f64               ┆ f64           ┆ f64           │\n",
       "╞═══════════════════╪═══════════════════╪═══════════════╪═══════════════╡\n",
       "│ 3351.06           ┆ 3308.328          ┆ 0.177361      ┆ 0.175099      │\n",
       "└───────────────────┴───────────────────┴───────────────┴───────────────┘"
      ]
     },
     "execution_count": 581,
     "metadata": {},
     "output_type": "execute_result"
    }
   ],
   "source": [
    "test.stats"
   ]
  },
  {
   "cell_type": "code",
   "execution_count": null,
   "id": "e361266b-d339-4fbd-87c4-37dcb2d19145",
   "metadata": {
    "tags": []
   },
   "outputs": [],
   "source": [
    "t = test.orders_markout_added\n",
    "\n",
    "# self.mid_val_ts = None\n",
    "# self.orders = None\n",
    "# self.orders_latency_applied = None\n",
    "# self.orders_queue_added = None\n",
    "# self.orders_trades_matched = None\n",
    "# self.orders_markout_added = None\n",
    "# self.markout_fill_rate_applied = None\n",
    "# self.stats = None"
   ]
  },
  {
   "cell_type": "markdown",
   "id": "be0a1095-ef2e-467d-baef-085974841f80",
   "metadata": {
    "jp-MarkdownHeadingCollapsed": true,
    "tags": []
   },
   "source": [
    "### Unit Test"
   ]
  },
  {
   "cell_type": "code",
   "execution_count": 694,
   "id": "9a81792b-90db-4510-be99-6a17c2233547",
   "metadata": {
    "tags": []
   },
   "outputs": [],
   "source": [
    "test_df = pl.DataFrame({\n",
    "    \"local_timestamp\": [111300, 111301, 111302, 111303, 111304, 111305],\n",
    "    \"ask[0].price\": [1, 2, 3, 4, 5, 6],\n",
    "    \"ask[0].amount\": [21, 22, 23, 24, 25, 26],\n",
    "    \"ask[1].price\": [2, 3, 4, 5, 6, 7],\n",
    "    \"ask[1].amount\": [22, 23, 24, 25, 26, 27],\n",
    "    \"ask[2].price\": [3, 4, 5, 6, 7, 8],\n",
    "    \"ask[2].amount\": [23, 24, 25, 26, 27, 28],\n",
    "    \"ask[3].price\": [4, 5, 6, 7, 8, 9],\n",
    "    \"ask[3].amount\": [24, 25, 26, 27, 28, 29],\n",
    "    \"ask_quote_px\": [3, 3, 3, 4, 4, 9],\n",
    "    \"test_1\": [1, 2, 3, 1, 2, 6],\n",
    "    \"test_2\": [2, 2, 2, 2, 2, 2],\n",
    "    \"order_arrived_time\": [1111, 1111, 1111, 2222, 2222, 2222]\n",
    "    # Continue for price_4 to price_10 and amount_4 to amount_10\n",
    "})"
   ]
  }
 ],
 "metadata": {
  "kernelspec": {
   "display_name": "Python 3 (ipykernel)",
   "language": "python",
   "name": "python3"
  },
  "language_info": {
   "codemirror_mode": {
    "name": "ipython",
    "version": 3
   },
   "file_extension": ".py",
   "mimetype": "text/x-python",
   "name": "python",
   "nbconvert_exporter": "python",
   "pygments_lexer": "ipython3",
   "version": "3.11.8"
  }
 },
 "nbformat": 4,
 "nbformat_minor": 5
}
